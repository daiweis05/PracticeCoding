{
 "cells": [
  {
   "cell_type": "markdown",
   "metadata": {},
   "source": [
    "# Charpter 4 Trees and Graphs"
   ]
  },
  {
   "cell_type": "markdown",
   "metadata": {},
   "source": [
    "### 4.2 Generate a tree from a sorted list"
   ]
  },
  {
   "cell_type": "code",
   "execution_count": 1,
   "metadata": {
    "collapsed": false
   },
   "outputs": [
    {
     "name": "stdout",
     "output_type": "stream",
     "text": [
      "\n",
      "            356\n",
      "        121\n",
      "    120\n",
      "        78\n",
      "8\n",
      "            6\n",
      "        3\n",
      "    2\n",
      "        1\n"
     ]
    }
   ],
   "source": [
    "# Definition for a  binary tree node\n",
    "class TreeNode:\n",
    "    def __init__(self, x):\n",
    "        self.val = x\n",
    "        self.left = None\n",
    "        self.right = None\n",
    "    def __str__(self, depth=0):\n",
    "        ret = \"\"\n",
    "        # Print right branch\n",
    "        if self.right != None:\n",
    "            ret += self.right.__str__(depth + 1)\n",
    "        # Print own value\n",
    "        ret += \"\\n\" + (\"    \"*depth) + str(self.val)\n",
    "        # Print left branch\n",
    "        if self.left != None:\n",
    "            ret += self.left.__str__(depth + 1)\n",
    "        return ret\n",
    "\n",
    "class Solution(object):\n",
    "    # @param num, a list of integers\n",
    "    # @return a tree node\n",
    "    def sortedArrayToBST(self, num):\n",
    "        return self.sortedArrayToBSTRec(num, 0, len(num)-1)\n",
    "        \n",
    "    def sortedArrayToBSTRec(self, num, begin, end):\n",
    "        if begin>end:\n",
    "            return None\n",
    "        midPoint = (begin+end)//2\n",
    "        root = TreeNode(num[midPoint])\n",
    "        root.left = self.sortedArrayToBSTRec(num, begin, midPoint-1)\n",
    "        root.right = self.sortedArrayToBSTRec(num, midPoint+1,end)\n",
    "        return root\n",
    "\n",
    "#solve the problem   \n",
    "array=[1, 2, 3, 6, 8, 78, 120, 121, 356]\n",
    "Sol=Solution()\n",
    "tree1=Sol.sortedArrayToBST(array)\n",
    "print(tree1)"
   ]
  },
  {
   "cell_type": "markdown",
   "metadata": {
    "collapsed": false
   },
   "source": [
    "### 4.5 Validate BST\n"
   ]
  },
  {
   "cell_type": "markdown",
   "metadata": {},
   "source": [
    "#### The min-max approach"
   ]
  },
  {
   "cell_type": "code",
   "execution_count": 41,
   "metadata": {
    "collapsed": false
   },
   "outputs": [
    {
     "name": "stdout",
     "output_type": "stream",
     "text": [
      "\n",
      "    30\n",
      "10\n",
      "    5\n",
      "True\n",
      "********************\n",
      "\n",
      "    20\n",
      "10\n",
      "            16\n",
      "        15\n",
      "            19\n",
      "    5\n",
      "False\n"
     ]
    }
   ],
   "source": [
    "class Node:\n",
    "    def __init__(self, val, k):\n",
    "        self.key = k\n",
    "        self.value = val\n",
    "        self.left = None\n",
    "        self.right = None\n",
    "        \n",
    "    def __str__(self, depth=0):\n",
    "        ret = \"\"\n",
    "        # Print right branch\n",
    "        if self.right != None:\n",
    "            ret += self.right.__str__(depth + 1)\n",
    "        # Print own value\n",
    "        ret += \"\\n\" + (\"    \"*depth)+ str(self.value) \n",
    "        # Print left branch\n",
    "        if self.left != None:\n",
    "            ret += self.left.__str__(depth + 1)\n",
    "        return ret\n",
    "\n",
    "    \n",
    "def tree_max(node):\n",
    "    if not node:\n",
    "        return float(\"-inf\")\n",
    "    maxleft  = tree_max(node.left)\n",
    "    maxright = tree_max(node.right)\n",
    "    return max(node.value, maxleft, maxright)\n",
    "\n",
    "def tree_min(node):\n",
    "    if not node:\n",
    "        return float(\"inf\")\n",
    "    minleft  = tree_min(node.left)\n",
    "    minright = tree_min(node.right)\n",
    "    return min(node.value, minleft, minright)\n",
    "\n",
    "def verify(node):\n",
    "    if not node:\n",
    "        return True\n",
    "    if (tree_max(node.left) <= node.value <= tree_min(node.right) and\n",
    "        verify(node.left) and verify(node.right)):\n",
    "        return True\n",
    "    else:\n",
    "        return False\n",
    "\n",
    "root1= Node(10, \"Hello\")\n",
    "root1.left = Node(5, \"Five\")\n",
    "root1.right= Node(30, \"Thirty\")\n",
    "print(root1)\n",
    "print(verify(root1)) # prints True, since this tree is valid\n",
    "\n",
    "\n",
    "print('*'*20)\n",
    "root = Node(10, \"Ten\")\n",
    "root.right = Node(20, \"Twenty\")\n",
    "root.left = Node(5, \"Five\")\n",
    "root.left.right = Node(15, \"Fifteen\")\n",
    "root.left.right.right = Node(16, \"Fifteen\")\n",
    "root.left.right.left = Node(19, \"Fifteen\")\n",
    "print(root)\n",
    "print(verify(root)) # prints False, since 15 is to the left of 10\n"
   ]
  },
  {
   "cell_type": "markdown",
   "metadata": {
    "collapsed": true
   },
   "source": [
    "#### method 1: In order traversal"
   ]
  },
  {
   "cell_type": "code",
   "execution_count": 54,
   "metadata": {
    "collapsed": false
   },
   "outputs": [
    {
     "name": "stdout",
     "output_type": "stream",
     "text": [
      "[5, 19, 15, 16, 10, 20]\n",
      "False\n",
      "\n",
      "    20\n",
      "10\n",
      "            16\n",
      "        15\n",
      "            19\n",
      "    5\n"
     ]
    }
   ],
   "source": [
    "index=0\n",
    "def copyBST(root,array):\n",
    "    if root is not None:\n",
    "        copyBST(root.left,array)\n",
    "        array.append(root.value)\n",
    "        copyBST(root.right,array)\n",
    "        return array\n",
    "\n",
    "def checkBST(root):\n",
    "    arr1=copyBST(root,[])\n",
    "    print(arr1)\n",
    "    for i in range(len(arr1)-1):\n",
    "        if arr1[i]>=arr1[i+1]:\n",
    "            return False\n",
    "    return True\n",
    "\n",
    "isBST=checkBST(root)\n",
    "print(isBST)\n",
    "print(root)"
   ]
  },
  {
   "cell_type": "code",
   "execution_count": null,
   "metadata": {
    "collapsed": false
   },
   "outputs": [],
   "source": []
  },
  {
   "cell_type": "code",
   "execution_count": null,
   "metadata": {
    "collapsed": true
   },
   "outputs": [],
   "source": []
  },
  {
   "cell_type": "code",
   "execution_count": null,
   "metadata": {
    "collapsed": true
   },
   "outputs": [],
   "source": []
  },
  {
   "cell_type": "code",
   "execution_count": null,
   "metadata": {
    "collapsed": true
   },
   "outputs": [],
   "source": []
  },
  {
   "cell_type": "code",
   "execution_count": null,
   "metadata": {
    "collapsed": true
   },
   "outputs": [],
   "source": []
  },
  {
   "cell_type": "code",
   "execution_count": null,
   "metadata": {
    "collapsed": true
   },
   "outputs": [],
   "source": []
  },
  {
   "cell_type": "code",
   "execution_count": null,
   "metadata": {
    "collapsed": true
   },
   "outputs": [],
   "source": []
  },
  {
   "cell_type": "code",
   "execution_count": null,
   "metadata": {
    "collapsed": true
   },
   "outputs": [],
   "source": []
  },
  {
   "cell_type": "code",
   "execution_count": null,
   "metadata": {
    "collapsed": true
   },
   "outputs": [],
   "source": []
  }
 ],
 "metadata": {
  "kernelspec": {
   "display_name": "Python 3",
   "language": "python",
   "name": "python3"
  },
  "language_info": {
   "codemirror_mode": {
    "name": "ipython",
    "version": 3
   },
   "file_extension": ".py",
   "mimetype": "text/x-python",
   "name": "python",
   "nbconvert_exporter": "python",
   "pygments_lexer": "ipython3",
   "version": "3.4.3"
  }
 },
 "nbformat": 4,
 "nbformat_minor": 0
}
