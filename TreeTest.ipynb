{
 "cells": [
  {
   "cell_type": "code",
   "execution_count": 66,
   "metadata": {
    "collapsed": false
   },
   "outputs": [
    {
     "name": "stdout",
     "output_type": "stream",
     "text": [
      "\n",
      "            356\n",
      "        121\n",
      "    120\n",
      "        78\n",
      "8\n",
      "            6\n",
      "        3\n",
      "    2\n",
      "        1\n"
     ]
    }
   ],
   "source": [
    "# Definition for a  binary tree node\n",
    "class TreeNode:\n",
    "    def __init__(self, x):\n",
    "        self.val = x\n",
    "        self.left = None\n",
    "        self.right = None\n",
    "    def __str__(self, depth=0):\n",
    "        ret = \"\"\n",
    "        # Print right branch\n",
    "        if self.right != None:\n",
    "            ret += self.right.__str__(depth + 1)\n",
    "        # Print own value\n",
    "        ret += \"\\n\" + (\"    \"*depth) + str(self.val)\n",
    "        # Print left branch\n",
    "        if self.left != None:\n",
    "            ret += self.left.__str__(depth + 1)\n",
    "        return ret\n",
    "\n",
    "class Solution(object):\n",
    "    # @param num, a list of integers\n",
    "    # @return a tree node\n",
    "    def sortedArrayToBST(self, num):\n",
    "        return self.sortedArrayToBSTRec(num, 0, len(num)-1)\n",
    "        \n",
    "    def sortedArrayToBSTRec(self, num, begin, end):\n",
    "        if begin>end:\n",
    "            return None\n",
    "        midPoint = (begin+end)//2\n",
    "        root = TreeNode(num[midPoint])\n",
    "        root.left = self.sortedArrayToBSTRec(num, begin, midPoint-1)\n",
    "        root.right = self.sortedArrayToBSTRec(num, midPoint+1,end)\n",
    "        return root\n",
    "\n",
    "#solve the problem   \n",
    "array=[1, 2, 3, 6, 8, 78, 120, 121, 356]\n",
    "Sol=Solution()\n",
    "tree1=Sol.sortedArrayToBST(array)\n",
    "print(tree1)"
   ]
  },
  {
   "cell_type": "code",
   "execution_count": 65,
   "metadata": {
    "collapsed": false
   },
   "outputs": [
    {
     "data": {
      "text/plain": [
       "3"
      ]
     },
     "execution_count": 65,
     "metadata": {},
     "output_type": "execute_result"
    }
   ],
   "source": [
    "(5+2)//2"
   ]
  },
  {
   "cell_type": "code",
   "execution_count": null,
   "metadata": {
    "collapsed": false
   },
   "outputs": [],
   "source": []
  },
  {
   "cell_type": "code",
   "execution_count": null,
   "metadata": {
    "collapsed": true
   },
   "outputs": [],
   "source": []
  }
 ],
 "metadata": {
  "kernelspec": {
   "display_name": "Python 3",
   "language": "python",
   "name": "python3"
  },
  "language_info": {
   "codemirror_mode": {
    "name": "ipython",
    "version": 3
   },
   "file_extension": ".py",
   "mimetype": "text/x-python",
   "name": "python",
   "nbconvert_exporter": "python",
   "pygments_lexer": "ipython3",
   "version": "3.4.3"
  }
 },
 "nbformat": 4,
 "nbformat_minor": 0
}
