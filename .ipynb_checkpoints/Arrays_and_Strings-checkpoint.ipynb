{
 "cells": [
  {
   "cell_type": "code",
   "execution_count": 61,
   "metadata": {
    "collapsed": true
   },
   "outputs": [],
   "source": [
    "a='abcdefghholppioioiu'"
   ]
  },
  {
   "cell_type": "code",
   "execution_count": 66,
   "metadata": {
    "collapsed": false
   },
   "outputs": [],
   "source": [
    "class checkUnique():\n",
    "    # with additional data structure\n",
    "    def isUniqueStr(x):\n",
    "        isUniqe = True\n",
    "        if len(x) >128: \n",
    "            isUniqe=False\n",
    "        elif len(set(x))!=len(x):\n",
    "            isUniqe=False\n",
    "        return isUniqe  \n",
    "    # without additional data structure\n",
    "    def isUniqueStr1(x):\n",
    "        strset=''\n",
    "        isUnique=True\n",
    "        for i in range (len(x)):\n",
    "            if x[i] not in strset:\n",
    "                strset+=x[i]\n",
    "            else:\n",
    "                isUnique=False\n",
    "                break\n",
    "        return isUnique\n",
    "            \n"
   ]
  },
  {
   "cell_type": "code",
   "execution_count": null,
   "metadata": {
    "collapsed": true
   },
   "outputs": [],
   "source": [
    "# sort the strings"
   ]
  },
  {
   "cell_type": "code",
   "execution_count": 93,
   "metadata": {
    "collapsed": false
   },
   "outputs": [],
   "source": [
    "a='abcdef'\n",
    "b='acbdef'"
   ]
  },
  {
   "cell_type": "code",
   "execution_count": 94,
   "metadata": {
    "collapsed": false
   },
   "outputs": [],
   "source": [
    "a_sorted=''.join(sorted(a))\n",
    "b_sorted=''.join(sorted(b))"
   ]
  },
  {
   "cell_type": "code",
   "execution_count": 95,
   "metadata": {
    "collapsed": false
   },
   "outputs": [
    {
     "data": {
      "text/plain": [
       "True"
      ]
     },
     "execution_count": 95,
     "metadata": {},
     "output_type": "execute_result"
    }
   ],
   "source": [
    "a_sorted==b_sorted"
   ]
  },
  {
   "cell_type": "code",
   "execution_count": 120,
   "metadata": {
    "collapsed": true
   },
   "outputs": [],
   "source": [
    "Input=\"  Mr  Join  Smith  Join \""
   ]
  },
  {
   "cell_type": "code",
   "execution_count": 121,
   "metadata": {
    "collapsed": false
   },
   "outputs": [],
   "source": [
    "Input = Input.strip()"
   ]
  },
  {
   "cell_type": "code",
   "execution_count": 124,
   "metadata": {
    "collapsed": false
   },
   "outputs": [
    {
     "name": "stdout",
     "output_type": "stream",
     "text": [
      "['Mr', 'Join', 'Smith', 'Join']\n"
     ]
    }
   ],
   "source": [
    "import re\n",
    "a=re.split('\\W+', Input)\n",
    "print(a)"
   ]
  },
  {
   "cell_type": "code",
   "execution_count": 123,
   "metadata": {
    "collapsed": false
   },
   "outputs": [
    {
     "data": {
      "text/plain": [
       "'Mr20%Join20%Smith20%Join'"
      ]
     },
     "execution_count": 123,
     "metadata": {},
     "output_type": "execute_result"
    }
   ],
   "source": [
    "'20%'.join(a)"
   ]
  },
  {
   "cell_type": "code",
   "execution_count": 117,
   "metadata": {
    "collapsed": true
   },
   "outputs": [],
   "source": []
  },
  {
   "cell_type": "code",
   "execution_count": 141,
   "metadata": {
    "collapsed": false
   },
   "outputs": [],
   "source": [
    "Input1='tact Coa'\n",
    "Input2='taco cat'"
   ]
  },
  {
   "cell_type": "code",
   "execution_count": 142,
   "metadata": {
    "collapsed": false
   },
   "outputs": [
    {
     "data": {
      "text/plain": [
       "True"
      ]
     },
     "execution_count": 142,
     "metadata": {},
     "output_type": "execute_result"
    }
   ],
   "source": [
    "b1=''.join(sorted(Input1.lower()))\n",
    "b2=''.join(sorted(Input2.lower()))\n",
    "b1==b2"
   ]
  },
  {
   "cell_type": "code",
   "execution_count": 185,
   "metadata": {
    "collapsed": false
   },
   "outputs": [],
   "source": [
    "a='pade'\n",
    "b='palef'"
   ]
  },
  {
   "cell_type": "code",
   "execution_count": 151,
   "metadata": {
    "collapsed": false
   },
   "outputs": [],
   "source": [
    "a='pale'"
   ]
  },
  {
   "cell_type": "code",
   "execution_count": 186,
   "metadata": {
    "collapsed": false
   },
   "outputs": [
    {
     "data": {
      "text/plain": [
       "False"
      ]
     },
     "execution_count": 186,
     "metadata": {},
     "output_type": "execute_result"
    }
   ],
   "source": [
    "def CheckOneEdit(a,b):\n",
    "    if a==b:\n",
    "        isOneEdit=False\n",
    "    elif len(a)==len(b):\n",
    "        isOneEdit=CheckReplace(a,b)\n",
    "    elif len(a)==len(b)+1:\n",
    "        isOneEdit=CheckInsert(a,b)\n",
    "    elif len(a)==len(b)-1:\n",
    "        isOneEdit=CheckInsert(b,a)\n",
    "    return isOneEdit\n",
    "\n",
    "def CheckReplace(a,b):\n",
    "    for i in range(len(a)):\n",
    "        if a[i]!=b[i]:\n",
    "            posi=i\n",
    "            break\n",
    "            \n",
    "    a1=a[0:posi]+a[posi+1:]\n",
    "    b1=b[0:posi]+b[posi+1:]\n",
    "    return a1==b1\n",
    "        \n",
    "def CheckInsert(a,b):\n",
    "    for i in range(len(a)):\n",
    "        if a[i]!=b[i]:\n",
    "            posi=i\n",
    "            break\n",
    "    a1=a[0:posi]+a[posi+1:]\n",
    "    return a1==b  \n",
    "CheckOneEdit(a,b)"
   ]
  },
  {
   "cell_type": "code",
   "execution_count": 214,
   "metadata": {
    "collapsed": false
   },
   "outputs": [],
   "source": [
    "str1='aabbddccccccddddeeffdddxdddssf'\n"
   ]
  },
  {
   "cell_type": "code",
   "execution_count": 212,
   "metadata": {
    "collapsed": false
   },
   "outputs": [],
   "source": [
    "def compress(str1):\n",
    "    Compressed=''\n",
    "    count=0\n",
    "    for i in range(len(str1)):\n",
    "        count+=1        \n",
    "        if (i+1 >= len(str1)) or (str1[i]!=str1[i+1]):\n",
    "            Compressed+=str1[i]\n",
    "            Compressed+=str(count)\n",
    "            count=0\n",
    "\n",
    "    return Compressed if len(Compressed)<len(str1) else str1\n",
    "    "
   ]
  },
  {
   "cell_type": "code",
   "execution_count": 215,
   "metadata": {
    "collapsed": false
   },
   "outputs": [
    {
     "data": {
      "text/plain": [
       "'a2b2d2c6d4e2f2d3x1d3s2f1'"
      ]
     },
     "execution_count": 215,
     "metadata": {},
     "output_type": "execute_result"
    }
   ],
   "source": [
    "compress(str1)"
   ]
  },
  {
   "cell_type": "code",
   "execution_count": 194,
   "metadata": {
    "collapsed": false
   },
   "outputs": [
    {
     "data": {
      "text/plain": [
       "1"
      ]
     },
     "execution_count": 194,
     "metadata": {},
     "output_type": "execute_result"
    }
   ],
   "source": [
    "a"
   ]
  },
  {
   "cell_type": "code",
   "execution_count": null,
   "metadata": {
    "collapsed": true
   },
   "outputs": [],
   "source": []
  },
  {
   "cell_type": "code",
   "execution_count": null,
   "metadata": {
    "collapsed": true
   },
   "outputs": [],
   "source": []
  },
  {
   "cell_type": "code",
   "execution_count": null,
   "metadata": {
    "collapsed": true
   },
   "outputs": [],
   "source": []
  }
 ],
 "metadata": {
  "kernelspec": {
   "display_name": "Python 3",
   "language": "python",
   "name": "python3"
  },
  "language_info": {
   "codemirror_mode": {
    "name": "ipython",
    "version": 3
   },
   "file_extension": ".py",
   "mimetype": "text/x-python",
   "name": "python",
   "nbconvert_exporter": "python",
   "pygments_lexer": "ipython3",
   "version": "3.4.3"
  }
 },
 "nbformat": 4,
 "nbformat_minor": 0
}
