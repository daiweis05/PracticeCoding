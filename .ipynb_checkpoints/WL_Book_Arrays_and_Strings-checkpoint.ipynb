{
 "cells": [
  {
   "cell_type": "markdown",
   "metadata": {},
   "source": [
    "# Chap 1. Arrays and strings\n"
   ]
  },
  {
   "cell_type": "markdown",
   "metadata": {},
   "source": [
    "# Ques 1.1 is Unique"
   ]
  },
  {
   "cell_type": "code",
   "execution_count": 16,
   "metadata": {
    "collapsed": false
   },
   "outputs": [
    {
     "data": {
      "text/plain": [
       "False"
      ]
     },
     "execution_count": 16,
     "metadata": {},
     "output_type": "execute_result"
    }
   ],
   "source": [
    "class checkUnique(object):\n",
    "    # with additional data structure\n",
    "    def isUniqueStr(self,x):\n",
    "        isUniqe = True\n",
    "        if len(x) >128: \n",
    "            isUniqe=False\n",
    "        elif len(set(x))!=len(x):\n",
    "            isUniqe=False\n",
    "        return isUniqe  \n",
    "    # without additional data structure\n",
    "    def isUniqueStr1(self,x):\n",
    "        strset=''\n",
    "        isUnique=True\n",
    "        for i in range (len(x)):\n",
    "            if x[i] not in strset:\n",
    "                strset+=x[i]\n",
    "            else:\n",
    "                isUnique=False\n",
    "                break\n",
    "        return isUnique\n",
    "            \n",
    "a='abcdefghholppioioiu'\n",
    "mycheckUnique=checkUnique()\n",
    "mycheckUnique.isUniqueStr(a)"
   ]
  },
  {
   "cell_type": "markdown",
   "metadata": {
    "collapsed": true
   },
   "source": [
    "# Ques 1.2 Check Permutation"
   ]
  },
  {
   "cell_type": "code",
   "execution_count": 19,
   "metadata": {
    "collapsed": false
   },
   "outputs": [
    {
     "data": {
      "text/plain": [
       "False"
      ]
     },
     "execution_count": 19,
     "metadata": {},
     "output_type": "execute_result"
    }
   ],
   "source": [
    "def checkPermutation (a,b):\n",
    "    a_sorted=''.join(sorted(a))\n",
    "    b_sorted=''.join(sorted(b))\n",
    "    return a_sorted==b_sorted\n",
    "\n",
    "\n",
    "a='abcdef'\n",
    "b='acbdff'\n",
    "checkPermutation(a,b)"
   ]
  },
  {
   "cell_type": "markdown",
   "metadata": {
    "collapsed": false
   },
   "source": [
    "# Ques 1.3 URLify"
   ]
  },
  {
   "cell_type": "code",
   "execution_count": 21,
   "metadata": {
    "collapsed": false
   },
   "outputs": [
    {
     "data": {
      "text/plain": [
       "'Mr20%Join20%Smith20%Join'"
      ]
     },
     "execution_count": 21,
     "metadata": {},
     "output_type": "execute_result"
    }
   ],
   "source": [
    "import re\n",
    "def URLify(Input):\n",
    "    Input = Input.strip()\n",
    "    a=re.split('\\W+', Input)\n",
    "    return '20%'.join(a)\n",
    "\n",
    "\n",
    "#-----------------------------\n",
    "Input=\"  Mr  Join  Smith  Join \"\n",
    "URLify(Input)"
   ]
  },
  {
   "cell_type": "markdown",
   "metadata": {
    "collapsed": true
   },
   "source": [
    "# Ques 1.4 Palindrome permutation"
   ]
  },
  {
   "cell_type": "code",
   "execution_count": 69,
   "metadata": {
    "collapsed": false
   },
   "outputs": [
    {
     "data": {
      "text/plain": [
       "False"
      ]
     },
     "execution_count": 69,
     "metadata": {},
     "output_type": "execute_result"
    }
   ],
   "source": [
    "def isPalindromePermute(Input1):\n",
    "    AlphaCount=dict.fromkeys(string.ascii_lowercase,0)\n",
    "    Input1=''.join(sorted(Input1.lower())).strip()\n",
    "    for i in range(len(Input1)):\n",
    "        AlphaCount[Input1[i]] += 1\n",
    "\n",
    "    oddcount=0\n",
    "    for alpha in string.ascii_lowercase:\n",
    "        if AlphaCount[alpha]%2 ==1:\n",
    "            oddcount=oddcount+1\n",
    "    return oddcount<2\n",
    "    \n",
    "    \n",
    "Input1='tact Caoobxy'    \n",
    "isPalindromePermute(Input1)"
   ]
  },
  {
   "cell_type": "markdown",
   "metadata": {},
   "source": [
    "# Ques 1.5 One Away"
   ]
  },
  {
   "cell_type": "code",
   "execution_count": 185,
   "metadata": {
    "collapsed": false
   },
   "outputs": [],
   "source": [
    "a='pade'\n",
    "b='palef'"
   ]
  },
  {
   "cell_type": "code",
   "execution_count": 186,
   "metadata": {
    "collapsed": false
   },
   "outputs": [
    {
     "data": {
      "text/plain": [
       "False"
      ]
     },
     "execution_count": 186,
     "metadata": {},
     "output_type": "execute_result"
    }
   ],
   "source": [
    "def CheckOneEdit(a,b):\n",
    "    if a==b:\n",
    "        isOneEdit=False\n",
    "    elif len(a)==len(b):\n",
    "        isOneEdit=CheckReplace(a,b)\n",
    "    elif len(a)==len(b)+1:\n",
    "        isOneEdit=CheckInsert(a,b)\n",
    "    elif len(a)==len(b)-1:\n",
    "        isOneEdit=CheckInsert(b,a)\n",
    "    return isOneEdit\n",
    "\n",
    "def CheckReplace(a,b):\n",
    "    for i in range(len(a)):\n",
    "        if a[i]!=b[i]:\n",
    "            posi=i\n",
    "            break\n",
    "            \n",
    "    a1=a[0:posi]+a[posi+1:]\n",
    "    b1=b[0:posi]+b[posi+1:]\n",
    "    return a1==b1\n",
    "        \n",
    "def CheckInsert(a,b):\n",
    "    for i in range(len(a)):\n",
    "        if a[i]!=b[i]:\n",
    "            posi=i\n",
    "            break\n",
    "    a1=a[0:posi]+a[posi+1:]\n",
    "    return a1==b  \n",
    "\n",
    "CheckOneEdit(a,b)"
   ]
  },
  {
   "cell_type": "markdown",
   "metadata": {},
   "source": [
    "# Ques 1.6 string compression"
   ]
  },
  {
   "cell_type": "code",
   "execution_count": 214,
   "metadata": {
    "collapsed": false
   },
   "outputs": [],
   "source": [
    "\n"
   ]
  },
  {
   "cell_type": "code",
   "execution_count": 70,
   "metadata": {
    "collapsed": false
   },
   "outputs": [
    {
     "data": {
      "text/plain": [
       "'a2b2d2c6d4e2f2d3x1d3s2f1'"
      ]
     },
     "execution_count": 70,
     "metadata": {},
     "output_type": "execute_result"
    }
   ],
   "source": [
    "str1='aabbddccccccddddeeffdddxdddssf'\n",
    "\n",
    "def compress(str1):\n",
    "    Compressed=''\n",
    "    count=0\n",
    "    for i in range(len(str1)):\n",
    "        count+=1        \n",
    "        if (i+1 >= len(str1)) or (str1[i]!=str1[i+1]):\n",
    "            Compressed+=str1[i]\n",
    "            Compressed+=str(count)\n",
    "            count=0\n",
    "\n",
    "    return Compressed if len(Compressed)<len(str1) else str1\n",
    "\n",
    "compress(str1)"
   ]
  },
  {
   "cell_type": "markdown",
   "metadata": {
    "collapsed": false
   },
   "source": [
    "# Ques1.7 rotating matrix"
   ]
  },
  {
   "cell_type": "code",
   "execution_count": 71,
   "metadata": {
    "collapsed": false
   },
   "outputs": [
    {
     "name": "stdout",
     "output_type": "stream",
     "text": [
      "[[  0  35 -11  67]\n",
      " [ 18  64  38  54]\n",
      " [ 36  47  49  66]]\n"
     ]
    }
   ],
   "source": [
    "import numpy as np\n",
    "image=np.random.rand(3,4)\n",
    "image=(image*100).astype(int)\n",
    "image+=-12\n",
    "print(image)"
   ]
  },
  {
   "cell_type": "code",
   "execution_count": 78,
   "metadata": {
    "collapsed": false
   },
   "outputs": [],
   "source": [
    "def rotateImage(image):\n",
    "    return np.fliplr(image.T)"
   ]
  },
  {
   "cell_type": "code",
   "execution_count": 79,
   "metadata": {
    "collapsed": false
   },
   "outputs": [
    {
     "data": {
      "text/plain": [
       "array([[ 36,  18,   0],\n",
       "       [ 47,  64,  35],\n",
       "       [ 49,  38, -11],\n",
       "       [ 66,  54,  67]])"
      ]
     },
     "execution_count": 79,
     "metadata": {},
     "output_type": "execute_result"
    }
   ],
   "source": [
    "rotateImage(image)"
   ]
  },
  {
   "cell_type": "markdown",
   "metadata": {},
   "source": [
    "# Ques 1.8 Zero Matrix"
   ]
  },
  {
   "cell_type": "code",
   "execution_count": 80,
   "metadata": {
    "collapsed": false
   },
   "outputs": [
    {
     "name": "stdout",
     "output_type": "stream",
     "text": [
      "[[27 87 32 81]\n",
      " [49  0 28 63]\n",
      " [68  1 20 45]]\n"
     ]
    },
    {
     "data": {
      "text/plain": [
       "1"
      ]
     },
     "execution_count": 80,
     "metadata": {},
     "output_type": "execute_result"
    }
   ],
   "source": [
    "import numpy as np\n",
    "image=np.random.rand(3,4)\n",
    "image=(image*100).astype(int)\n",
    "image+=-12\n",
    "print(image)\n",
    "\n",
    "(image==0).astype(int).sum()"
   ]
  }
 ],
 "metadata": {
  "kernelspec": {
   "display_name": "Python 3",
   "language": "python",
   "name": "python3"
  },
  "language_info": {
   "codemirror_mode": {
    "name": "ipython",
    "version": 3
   },
   "file_extension": ".py",
   "mimetype": "text/x-python",
   "name": "python",
   "nbconvert_exporter": "python",
   "pygments_lexer": "ipython3",
   "version": "3.4.3"
  }
 },
 "nbformat": 4,
 "nbformat_minor": 0
}
