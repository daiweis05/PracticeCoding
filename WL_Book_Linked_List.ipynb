{
 "cells": [
  {
   "cell_type": "markdown",
   "metadata": {},
   "source": [
    "# Chap 2. Linked List\n"
   ]
  },
  {
   "cell_type": "markdown",
   "metadata": {},
   "source": [
    "### Singly Linked List"
   ]
  },
  {
   "cell_type": "code",
   "execution_count": 5,
   "metadata": {
    "collapsed": true
   },
   "outputs": [],
   "source": [
    "class Node(object):\n",
    "\n",
    "    def __init__(self, data=None, next_node=None):\n",
    "        self.data = data\n",
    "        self.next_node = next_node\n",
    "\n",
    "    def get_data(self):\n",
    "        return self.data\n",
    "\n",
    "    def get_next(self):\n",
    "        return self.next_node\n",
    "\n",
    "    def set_next(self, new_next):\n",
    "        self.next_node = new_next  \n"
   ]
  },
  {
   "cell_type": "code",
   "execution_count": 6,
   "metadata": {
    "collapsed": true
   },
   "outputs": [],
   "source": [
    "class LinkedList(object):\n",
    "    def __init__(self, head=None):\n",
    "        self.head = head\n",
    "    \n",
    "    def insert(self, data):\n",
    "        new_node = Node(data)\n",
    "        new_node.set_next(self.head)\n",
    "        self.head = new_node\n",
    "    \n",
    "    def size(self):\n",
    "        current = self.head\n",
    "        count = 0\n",
    "        while current:\n",
    "            count += 1\n",
    "            current = current.get_next()\n",
    "        return count\n",
    "    \n",
    "    def search(self, data):\n",
    "        current = self.head\n",
    "        found = False\n",
    "        while current and found is False:\n",
    "            if current.get_data() == data:\n",
    "                found = True\n",
    "            else:\n",
    "                current = current.get_next()\n",
    "        if current is None:\n",
    "            raise ValueError(\"Data not in list\")\n",
    "        return current\n",
    "    \n",
    "    def delete(self, data):\n",
    "        current = self.head\n",
    "        previous = None\n",
    "        found = False\n",
    "        while current and found is False:\n",
    "            if current.get_data() == data:\n",
    "                found = True\n",
    "            else:\n",
    "                previous = current\n",
    "                current = current.get_next()\n",
    "        if current is None:\n",
    "            raise ValueError(\"Data not in list\")\n",
    "        if previous is None:\n",
    "            self.head = current.get_next()\n",
    "        else:\n",
    "            previous.set_next(current.get_next())"
   ]
  },
  {
   "cell_type": "markdown",
   "metadata": {},
   "source": [
    "### Another implementation of singly linked list"
   ]
  },
  {
   "cell_type": "code",
   "execution_count": 105,
   "metadata": {
    "collapsed": false
   },
   "outputs": [
    {
     "name": "stdout",
     "output_type": "stream",
     "text": [
      "Showing list data:\n",
      "31  -> \n",
      "2  -> \n",
      "3  -> \n",
      "4  -> \n",
      "66  -> \n",
      "66  -> \n",
      "66  -> \n",
      "None\n"
     ]
    }
   ],
   "source": [
    "class Node(object):\n",
    " \n",
    "    def __init__(self, data, next):\n",
    "        self.data = data\n",
    "        self.next = next\n",
    " \n",
    " \n",
    "class SingleList(object):\n",
    " \n",
    "    head = None\n",
    "    tail = None\n",
    " \n",
    "    def show(self):\n",
    "        print (\"Showing list data:\")\n",
    "        current_node = self.head\n",
    "        while current_node is not None:\n",
    "            print (current_node.data, \" -> \"),\n",
    "            current_node = current_node.next\n",
    "        print (None)\n",
    " \n",
    "    def append(self, data):\n",
    "        node = Node(data, None)\n",
    "        if self.head is None:\n",
    "            self.head = self.tail = node\n",
    "        else:\n",
    "            self.tail.next = node\n",
    "        self.tail = node\n",
    " \n",
    "    def remove(self, node_value):\n",
    "        current_node = self.head\n",
    "        previous_node = None\n",
    "        while current_node is not None:\n",
    "            if current_node.data == node_value:\n",
    "                # if this is the first node (head)\n",
    "                if previous_node is not None:\n",
    "                    previous_node.next = current_node.next\n",
    "                else:\n",
    "                    self.head = current_node.next\n",
    " \n",
    "            # needed for the next iteration\n",
    "            previous_node = current_node\n",
    "            current_node = current_node.next\n",
    " \n",
    " \n",
    "s = SingleList()\n",
    "s.append(31)\n",
    "s.append(2)\n",
    "s.append(3)\n",
    "s.append(4)\n",
    "s.append(66)\n",
    "s.append(66)\n",
    "s.append(66)\n",
    "s.show()"
   ]
  },
  {
   "cell_type": "markdown",
   "metadata": {},
   "source": [
    "## Ques 2.1Remove duplicates"
   ]
  },
  {
   "cell_type": "code",
   "execution_count": 106,
   "metadata": {
    "collapsed": false
   },
   "outputs": [
    {
     "name": "stdout",
     "output_type": "stream",
     "text": [
      "Showing list data:\n",
      "31  -> \n",
      "2  -> \n",
      "3  -> \n",
      "4  -> \n",
      "66  -> \n",
      "None\n"
     ]
    }
   ],
   "source": [
    "def remove_duplicates(singlelist):\n",
    "    current_node = singlelist.head\n",
    "    existing_values = set([current_node.data])\n",
    "\n",
    "    while not current_node.next is None:\n",
    "        next = current_node.next\n",
    "        if next.data in existing_values:\n",
    "            current_node.next = next.next\n",
    "        else:\n",
    "            current_node = current_node.next\n",
    "            existing_values.add(current_node.data)\n",
    "\n",
    "\n",
    "def remove_duplicates_constant_memory(singlelist):\n",
    "    node = singlelist.head \n",
    "    while not node is None:\n",
    "        before_check = node\n",
    "        check = node.next\n",
    "\n",
    "        while not check is None:\n",
    "            if check.data == node.data:\n",
    "                before_check.next = check.next\n",
    "                check = check.next\n",
    "            else:\n",
    "                before_check = check\n",
    "                check = check.next\n",
    "\n",
    "        node = node.next\n",
    "\n",
    "remove_duplicates(s)\n",
    "\n",
    "s.show()"
   ]
  },
  {
   "cell_type": "markdown",
   "metadata": {},
   "source": [
    "## Ques2.2 Return Kth to last"
   ]
  },
  {
   "cell_type": "code",
   "execution_count": 122,
   "metadata": {
    "collapsed": false
   },
   "outputs": [
    {
     "name": "stdout",
     "output_type": "stream",
     "text": [
      "Showing list data:\n",
      "31  -> \n",
      "2  -> \n",
      "3  -> \n",
      "4  -> \n",
      "66  -> \n",
      "None\n",
      "******************************\n",
      "4\n",
      "66\n"
     ]
    }
   ],
   "source": [
    "def KthNode(singlelist,k):\n",
    "    node1 = singlelist.head\n",
    "    node2 = singlelist.head     \n",
    "    for i in range(k):\n",
    "        node1 = node1.next\n",
    "\n",
    "    while not node1.next is None:\n",
    "        node1 = node1.next\n",
    "        node2 = node2.next\n",
    "    \n",
    "    for i in range(k):\n",
    "        node2 = node2.next \n",
    "        print(node2.data)\n",
    "\n",
    "s.show()\n",
    "print('*'*30)\n",
    "KthNode(s,2)"
   ]
  },
  {
   "cell_type": "markdown",
   "metadata": {},
   "source": [
    "### Ques2.3 Delete nth data in the middle"
   ]
  },
  {
   "cell_type": "code",
   "execution_count": 125,
   "metadata": {
    "collapsed": false
   },
   "outputs": [
    {
     "name": "stdout",
     "output_type": "stream",
     "text": [
      "Showing list data:\n",
      "31  -> \n",
      "2  -> \n",
      "3  -> \n",
      "4  -> \n",
      "66  -> \n",
      "None\n"
     ]
    }
   ],
   "source": [
    "s.show()"
   ]
  },
  {
   "cell_type": "code",
   "execution_count": 136,
   "metadata": {
    "collapsed": false
   },
   "outputs": [],
   "source": [
    "nodeN=s.head.next.next"
   ]
  },
  {
   "cell_type": "code",
   "execution_count": 134,
   "metadata": {
    "collapsed": false
   },
   "outputs": [
    {
     "data": {
      "text/plain": [
       "3"
      ]
     },
     "execution_count": 134,
     "metadata": {},
     "output_type": "execute_result"
    }
   ],
   "source": [
    "nodeN.data"
   ]
  },
  {
   "cell_type": "code",
   "execution_count": 141,
   "metadata": {
    "collapsed": false
   },
   "outputs": [
    {
     "name": "stdout",
     "output_type": "stream",
     "text": [
      "Showing list data:\n",
      "31  -> \n",
      "2  -> \n",
      "66  -> \n",
      "None\n"
     ]
    }
   ],
   "source": [
    "def DeleteKthNode(nodeN):\n",
    "    next=nodeN.next\n",
    "    nodeN.data=next.data\n",
    "    nodeN.next=next.next\n",
    "\n",
    "DeleteKthNode(nodeN)\n",
    "s.show()"
   ]
  },
  {
   "cell_type": "code",
   "execution_count": null,
   "metadata": {
    "collapsed": true
   },
   "outputs": [],
   "source": []
  },
  {
   "cell_type": "code",
   "execution_count": null,
   "metadata": {
    "collapsed": true
   },
   "outputs": [],
   "source": []
  },
  {
   "cell_type": "markdown",
   "metadata": {},
   "source": [
    "# Doubly linked list"
   ]
  },
  {
   "cell_type": "code",
   "execution_count": 15,
   "metadata": {
    "collapsed": false
   },
   "outputs": [
    {
     "name": "stdout",
     "output_type": "stream",
     "text": [
      "Show list data:\n",
      "None\n",
      "5\n",
      "6\n",
      "5\n",
      "6\n",
      "50\n",
      "6\n",
      "50\n",
      "30\n",
      "50\n",
      "30\n",
      "None\n",
      "**************************************************\n",
      "Show list data:\n",
      "None\n",
      "6\n",
      "30\n",
      "6\n",
      "30\n",
      "None\n",
      "**************************************************\n"
     ]
    }
   ],
   "source": [
    "class Node(object):\n",
    " \n",
    "    def __init__(self, data, prev, next):\n",
    "        self.data = data\n",
    "        self.prev = prev\n",
    "        self.next = next\n",
    " \n",
    " \n",
    "class DoubleList(object):\n",
    " \n",
    "    head = None\n",
    "    tail = None\n",
    " \n",
    "    def append(self, data):\n",
    "        new_node = Node(data, None, None)\n",
    "        if self.head is None:\n",
    "            self.head = self.tail = new_node\n",
    "        else:\n",
    "            new_node.prev = self.tail\n",
    "            new_node.next = None\n",
    "            self.tail.next = new_node\n",
    "            self.tail = new_node\n",
    " \n",
    "    def remove(self, node_value):\n",
    "        current_node = self.head\n",
    " \n",
    "        while current_node is not None:\n",
    "            if current_node.data == node_value:\n",
    "                # if it's not the first element\n",
    "                if current_node.prev is not None:\n",
    "                    current_node.prev.next = current_node.next\n",
    "                    current_node.next.prev = current_node.prev\n",
    "                else:\n",
    "                    # otherwise we have no prev (it's None), \n",
    "                    #head is the next one, and prev becomes None\n",
    "                    \n",
    "                    self.head = current_node.next\n",
    "                    current_node.next.prev = None\n",
    " \n",
    "            current_node = current_node.next\n",
    " \n",
    "    def show(self):\n",
    "        print (\"Show list data:\")\n",
    "        current_node = self.head\n",
    "        while current_node is not None:\n",
    "            print (current_node.prev.data if hasattr(current_node.prev, \"data\") else None),\n",
    "            print (current_node.data),\n",
    "            print (current_node.next.data if hasattr(current_node.next, \"data\") else None)\n",
    " \n",
    "            current_node = current_node.next\n",
    "        print (\"*\"*50)\n",
    " \n",
    " \n",
    "d = DoubleList()\n",
    " \n",
    "d.append(5)\n",
    "d.append(6)\n",
    "d.append(50)\n",
    "d.append(30)\n",
    " \n",
    "d.show()\n",
    " \n",
    "d.remove(50)\n",
    "d.remove(5)\n",
    " \n",
    "d.show()"
   ]
  },
  {
   "cell_type": "code",
   "execution_count": null,
   "metadata": {
    "collapsed": true
   },
   "outputs": [],
   "source": []
  }
 ],
 "metadata": {
  "kernelspec": {
   "display_name": "Python 3",
   "language": "python",
   "name": "python3"
  },
  "language_info": {
   "codemirror_mode": {
    "name": "ipython",
    "version": 3
   },
   "file_extension": ".py",
   "mimetype": "text/x-python",
   "name": "python",
   "nbconvert_exporter": "python",
   "pygments_lexer": "ipython3",
   "version": "3.4.3"
  }
 },
 "nbformat": 4,
 "nbformat_minor": 0
}
