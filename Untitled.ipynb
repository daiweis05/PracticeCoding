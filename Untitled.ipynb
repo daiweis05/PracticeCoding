{
 "cells": [
  {
   "cell_type": "code",
   "execution_count": 16,
   "metadata": {
    "collapsed": false
   },
   "outputs": [],
   "source": [
    "text_file = open(\"12.txt\", \"r\")\n",
    "lines = text_file.readlines()\n",
    "text_file.close()"
   ]
  },
  {
   "cell_type": "code",
   "execution_count": 18,
   "metadata": {
    "collapsed": false
   },
   "outputs": [],
   "source": [
    "#for i in range(len(lines)):\n",
    "    #print(lines[i][5:], end='')"
   ]
  },
  {
   "cell_type": "code",
   "execution_count": 1,
   "metadata": {
    "collapsed": false
   },
   "outputs": [
    {
     "ename": "NameError",
     "evalue": "name 'Graph' is not defined",
     "output_type": "error",
     "traceback": [
      "\u001b[1;31m---------------------------------------------------------------------------\u001b[0m",
      "\u001b[1;31mNameError\u001b[0m                                 Traceback (most recent call last)",
      "\u001b[1;32m<ipython-input-1-727c80897eeb>\u001b[0m in \u001b[0;36m<module>\u001b[1;34m()\u001b[0m\n\u001b[0;32m     22\u001b[0m \u001b[1;31m# Yes, these aren't the natural datastructures for trees.\u001b[0m\u001b[1;33m\u001b[0m\u001b[1;33m\u001b[0m\u001b[0m\n\u001b[0;32m     23\u001b[0m \u001b[1;33m\u001b[0m\u001b[0m\n\u001b[1;32m---> 24\u001b[1;33m \u001b[1;32mclass\u001b[0m \u001b[0mTree\u001b[0m\u001b[1;33m(\u001b[0m\u001b[0mGraph\u001b[0m\u001b[1;33m)\u001b[0m\u001b[1;33m:\u001b[0m\u001b[1;33m\u001b[0m\u001b[0m\n\u001b[0m\u001b[0;32m     25\u001b[0m     \u001b[1;34m\"\"\" A free (unrooted) tree.\"\"\"\u001b[0m\u001b[1;33m\u001b[0m\u001b[0m\n\u001b[0;32m     26\u001b[0m     \u001b[1;32mdef\u001b[0m \u001b[0m__init__\u001b[0m\u001b[1;33m(\u001b[0m\u001b[0mself\u001b[0m\u001b[1;33m,\u001b[0m\u001b[0mdata\u001b[0m\u001b[1;33m=\u001b[0m\u001b[1;32mNone\u001b[0m\u001b[1;33m,\u001b[0m\u001b[1;33m**\u001b[0m\u001b[0mkwds\u001b[0m\u001b[1;33m)\u001b[0m\u001b[1;33m:\u001b[0m\u001b[1;33m\u001b[0m\u001b[0m\n",
      "\u001b[1;31mNameError\u001b[0m: name 'Graph' is not defined"
     ]
    }
   ],
   "source": [
    "# \n",
    "import networkx\n",
    "#import networkx.Graph as Graph \n",
    "#import networkx.Digraph as DiGraph \n",
    "#from  networkx.exception import NetworkXException, NetworkXError \n",
    "#import networkx.convert as convert \n",
    "#import networkx.component as component \n",
    "#import networkx.path as shortest_path \n",
    " \n",
    "# Yes, these aren't the natural datastructures for trees.  \n",
    " \n",
    "class Tree(Graph): \n",
    "    \"\"\" A free (unrooted) tree.\"\"\" \n",
    "    def __init__(self,data=None,**kwds): \n",
    "        Graph.__init__(self,**kwds) \n",
    "        if data is not None: \n",
    "            try: # build a graph \n",
    "                G=Graph() \n",
    "                G=convert.from_whatever(data,create_using=G) \n",
    "            except: \n",
    "                raise (NetworkXError, \"Data %s is not a tree\"%data )\n",
    "            # check if it is a tree. \n",
    "            if G.order()==G.size()+1 and component.number_connected_components(G)==1: \n",
    "                self.adj=G.adj.copy() \n",
    "                del G \n",
    "            else: \n",
    "                raise (NetworkXError, \"Data %s is not a tree\"%data) \n",
    "              \n",
    "    def add_node(self, n): \n",
    "        if n in self: \n",
    "            return # already in tree \n",
    "        elif len(self.adj)==0: \n",
    "            Graph.add_node(self,n) # first node \n",
    "        else:  # not allowed \n",
    "            raise NetworkXError(\"adding single node %s not allowed in non-empty tree\"%(n)) \n",
    " \n",
    "    def add_nodes_from(self, nbunch): \n",
    "        for n in nbunch: \n",
    "            self.add_node(n) \n",
    " \n",
    "    def delete_node(self, n): \n",
    "        try: \n",
    "            if len(self.adj[n])==1: # allowed for leaf node \n",
    "                Graph.delete_node(self,n) \n",
    "            else: \n",
    "                raise NetworkXError(\"deleting interior node %s not allowed in tree\"%(n)) \n",
    "        except KeyError: # NetworkXError if n not in self \n",
    "            raise NetworkXError(\"node %s not in graph\"%n) \n",
    " \n",
    "    def delete_nodes_from(self, nbunch): \n",
    "        for n in nbunch: \n",
    "            self.delete_node(n) \n",
    " \n",
    "    def add_edge(self, u, v=None):   \n",
    "        if v is None: (u,v)=u  # no v given, assume u is an edge tuple \n",
    "        if self.has_edge(u,v): return # no parallel edges allowed \n",
    "        elif u in self and v in self: \n",
    "            raise NetworkXError(\"adding edge %s-%s not allowed in tree\"%(u,v)) \n",
    "        elif u in self or v in self: \n",
    "            Graph.add_edge(self,u,v) \n",
    "            return \n",
    "        elif len(self.adj)==0: # first leaf \n",
    "            Graph.add_edge(self,u,v)             \n",
    "            return \n",
    "        else: \n",
    "            raise NetworkXError(\"adding edge %s-%s not allowed in tree\"%(u,v)) \n",
    "             \n",
    "    def add_edges_from(self, ebunch):   \n",
    "        for e in ebunch: \n",
    "            self.add_edge(e) \n",
    "             \n",
    "    def delete_edge(self, u, v=None):  \n",
    "        if v is None: (u,v)=u \n",
    "        if self.degree(u)==1 or self.degree(v)==1: # leaf edge \n",
    "            Graph.delete_edge(self,u,v) \n",
    "        else: # interior edge \n",
    "            raise NetworkXError(\"deleting interior edge %s-%s not allowed in tree\"%(u,v)) \n",
    "        if self.degree(u)==0:  # OK to delete remaining isolated node \n",
    "            Graph.delete_node(self,u) \n",
    "        if self.degree(v)==0:  # OK to delete remaining isolated node           \n",
    "            Graph.delete_node(self,v) \n",
    " \n",
    "    def delete_edges_from(self, ebunch):   \n",
    "        for e in ebunch: \n",
    "            self.delete_edge(e) \n",
    " \n",
    "    # leaf notation             \n",
    "    def add_leaf(self, u, v=None):   \n",
    "        self.add_edge(u,v) \n",
    " \n",
    "    def delete_leaf(self, u, v=None):  \n",
    "        self.delete_edge(u,v) \n",
    " \n",
    "    def add_leaves_from(self, ebunch):   \n",
    "        for e in ebunch: \n",
    "            self.add_leaf(e) \n",
    " \n",
    "    def delete_leaves_from(self, ebunch):   \n",
    "        for e in ebunch: \n",
    "            self.delete_leaf(e) \n",
    " \n",
    "    def union_sub(self, T1, **kwds): \n",
    "        \"\"\"Polymorphic helper method for Graph.union(). \n",
    " \n",
    "        Required keywords: v_from and v_to, where v_from is the node \n",
    "        in self to which v_to should be attached as child.\"\"\" \n",
    "        T = self.copy() \n",
    "        parent = kwds['v_from'] \n",
    "        node = kwds['v_to'] \n",
    "        T.add_edge(parent, node) \n",
    "        T.union_sub_tree_helper(T1, node) \n",
    "        return T \n",
    " \n",
    "    def union_sub_tree_helper(self, T1, parent, grandparent=None): \n",
    "        for child in T1[parent]: \n",
    "            if(child != grandparent): \n",
    "                self.add_edge(parent, child) \n",
    "                self.union_sub_tree_helper(T1, child, parent) \n",
    " \n",
    " \n",
    "class RootedTree(Tree,Graph): \n",
    "    \"\"\" A rooted tree.\"\"\" \n",
    "    def __init__(self,root,data=None,**kwds): \n",
    "        Tree.__init__(self,data=data,**kwds) \n",
    "        self.root=root \n",
    "        self.par={} # keep track of parent \n",
    "        if data is not None: # handle input data, could be Tree, etc. \n",
    "            # now root tree for this data \n",
    "            self.root_tree(root)             \n",
    " \n",
    "    # parents, use predecessors \n",
    "    # children, use successors \n",
    " \n",
    "    def delete_node(self, n): \n",
    "        try: \n",
    "            if len(self.adj[n])==1: # allowed for leaf node \n",
    "                Graph.delete_node(self,n) \n",
    "                del self.par[n] \n",
    "            else: \n",
    "                raise NetworkXError (\"deleting interior node %s not allowed in tree\"%(n))\n",
    "        except KeyError: # NetworkXError if n not in self \n",
    "            raise NetworkXError (\"node %s not in graph\"%n )\n",
    " \n",
    " \n",
    "    def add_edge(self, u, v=None):   \n",
    "        if v is None: \n",
    "            (u,v)=u  # no v given, assume u is an edge tuple \n",
    "        if self.has_edge(u,v):  # no parallel edges \n",
    "            return \n",
    "        elif u in self and v in self: \n",
    "            raise NetworkXError (\"adding edge %s-%s not allowed in tree\"%(u,v) )\n",
    "        elif u in self: \n",
    "            Graph.add_edge(self,u,v) \n",
    "            self.par[v]=u \n",
    "            return \n",
    "        elif v in self: \n",
    "            Graph.add_edge(self,u,v) \n",
    "            self.par[u]=v \n",
    "            return \n",
    "        elif len(self.adj)==0: # first leaf \n",
    "            Graph.add_edge(self,u,v)             \n",
    "            self.par[v]=u   # u is v's parent           \n",
    "            return \n",
    "        else: \n",
    "            raise NetworkXError(\"adding edge %s-%s not allowed in tree\"%(u,v) )\n",
    "             \n",
    "    def parent(self,u): \n",
    "        try: \n",
    "            return self.par[u] \n",
    "        except: \n",
    "            return None \n",
    " \n",
    "             \n",
    "    def children(self,u): \n",
    "        #FIXME reverse parent dict \n",
    "        pass \n",
    " \n",
    " \n",
    "    def root_tree(self,root):         \n",
    "        preds=shortest_path.predecessor(self,root) \n",
    "        del preds[root] \n",
    "        for p in preds: \n",
    "            self.par[p]=preds[p][0] # preds[node] is an array  \n",
    " \n",
    " \n",
    "class DirectedTree(Tree,DiGraph): \n",
    "    \"\"\" A directed tree.\"\"\" \n",
    "    def __init__(self,data=None,**kwds): \n",
    "        DiGraph.__init__(self,**kwds) \n",
    "        if data is not None: \n",
    " \n",
    "            try: # build a rooted tree \n",
    "                D=DiGraph() \n",
    "                for (child,parent) in data.par.iteritems(): \n",
    "                    D.add_edge(parent,child) \n",
    "            except AttributeError:  \n",
    "                D=DiGraph(data) \n",
    "            except: # else nothing we can do \n",
    "                raise NetworkXError (\"Data %s is not a rooted tree:\"%data )\n",
    "                     \n",
    "            if D.order()==D.size()+1: \n",
    "                self.pred=D.pred.copy() \n",
    "                self.succ=D.succ.copy() \n",
    "                self.adj=self.succ \n",
    "                del D \n",
    "            else: # not a tree \n",
    "                raise NetworkXError(\"Data %s is not a rooted tree:\"%data )\n",
    "              \n",
    "    def delete_node(self, n): \n",
    "        try: \n",
    "            if len(self.succ[n])+len(self.pred[n])==1: # allowed for leaf node \n",
    "                DiGraph.delete_node(self,n) # deletes adjacent edge too \n",
    "            else: \n",
    "                raise NetworkXError( \"deleting interior node %s not allowed in tree\"%(n)) \n",
    "        except KeyError: # NetworkXError if n not in self \n",
    "            raise NetworkXError(\"node %s not in graph\"%n )\n",
    "             \n",
    "    def add_edge(self, u, v=None):   \n",
    "        if v is None: (u,v)=u  # no v given, assume u is an edge tuple \n",
    "        if self.has_edge(u,v): return # no parallel edges \n",
    "        elif u in self and v in self: \n",
    "            raise NetworkXError (\"adding edge %s-%s not allowed in tree\"%(u,v) )\n",
    "        elif u in self or v in self: \n",
    "            DiGraph.add_edge(self,u,v) # u->v \n",
    "            return \n",
    "        elif len(self.adj)==0: # first leaf \n",
    "            DiGraph.add_edge(self,u,v) # u->v            \n",
    "            return \n",
    "        else: \n",
    "            raise NetworkXError(\"adding edge %s-%s not allowed in tree\"%(u,v)) \n",
    "             \n",
    "    def delete_edge(self, u, v=None):  \n",
    "        if v is None: (u,v)=u \n",
    "        if self.degree(u)==1 or self.degree(v)==1: \n",
    "            DiGraph.delete_edge(self,u,v) \n",
    "        else: \n",
    "            raise NetworkXError(\"deleting interior edge %s-%s not allowed in tree\"%(u,v)) \n",
    "        if self.degree(u)==0: DiGraph.delete_node(self,u) \n",
    "        if self.degree(v)==0: DiGraph.delete_node(self,v) \n",
    " \n",
    " \n",
    "class Forest(Tree,Graph): \n",
    "    \"\"\" A forest.\"\"\" \n",
    "    def __init__(self,data=None,**kwds): \n",
    "        Tree.__init__(self,**kwds) \n",
    "        self.comp={}  # dictionary mapping node to component \n",
    "        self.nc=0 # component index, start at zero, sequential (with holes) \n",
    "        if data is not None: \n",
    "            try: \n",
    "                self=convert.from_whatever(data,create_using=self) \n",
    "            except: \n",
    "                raise NetworkXError(\"Data %s is not a forest\"%data) \n",
    "         \n",
    "    def add_node(self, n): \n",
    "        Graph.add_node(self,n) \n",
    "        # this is not called from add_edge so we must assign \n",
    "        # and component (else that is assigned in add_edge) \n",
    "        self.comp[n]=self.nc \n",
    "        self.nc+=1 \n",
    " \n",
    " \n",
    "    def delete_node(self, n): \n",
    "        # get neighbors first since this will remove all edges to them \n",
    "        neighbors=self.neighbors(n) \n",
    "        Graph.delete_node(self,n) # delete node and adjacent edges \n",
    "        del self.comp[n]     # remove node from component dictionary \n",
    "        if len(neighbors)==1: return # n was a leaf node \n",
    "        for nbr in neighbors: \n",
    "            # make new components of each nbr and connected graph \n",
    "            # FIXME this does more work then is necessary \n",
    "            # since nbrs of n could be in same conected component \n",
    "            # and then will get renumbered more than once \n",
    "            vnodes=component.node_connected_component(self,nbr) \n",
    "            for v in vnodes: \n",
    "                self.comp[v]=self.nc \n",
    "            self.nc+=1 \n",
    " \n",
    "    def add_edge(self, u, v=None):   \n",
    "        if v is None: (u,v)=u  # no v given, assume u is an edge tuple \n",
    "        if self.has_edge(u,v):  return # no parallel edges \n",
    "        if u in self:  # u is in forest \n",
    "            if v in self: # v is in forest \n",
    "                if self.comp[u]==self.comp[v]: # same tree? \n",
    "                    raise NetworkXError(\"adding edge %s-%s not allowed in forest\"%(u,v) )\n",
    "                else:  # join two trees  \n",
    "                    Graph.add_edge(self,u,v) \n",
    "                    ucomp=self.comp[u] \n",
    "                    # set component number of v tree to u tree \n",
    "                    for n in component.node_connected_component(self,v): \n",
    "                        self.comp[n]=ucomp \n",
    "            else: # add u-v to tree in component with u \n",
    "                Graph.add_edge(self,u,v) \n",
    "                self.comp[v]=self.comp[u] \n",
    "        else: # make new tree with only u-v \n",
    "            Graph.add_edge(self,u,v) \n",
    "            self.comp[u]=self.nc \n",
    "            self.comp[v]=self.nc \n",
    "            self.nc+=1 \n",
    "         \n",
    "    def delete_edge(self, u, v=None):  \n",
    "        if v is None: (u,v)=u   # no v given, assume u is an edge tuple \n",
    "        Graph.delete_edge(self,u,v) \n",
    "        # this will always break a tree into two trees \n",
    "        # put nodes connected to v in a new component \n",
    "        vnodes=component.node_connected_component(self,v) \n",
    "        for n in vnodes: \n",
    "            self.comp[n]=self.nc \n",
    "        self.nc+=1 \n",
    " \n",
    "    def tree(self,n=None): \n",
    "        \"\"\"Return tree containing node n. \n",
    "        If no node is specified return list of all trees in forest. \n",
    "        \"\"\" \n",
    "        if n is not None: \n",
    "            ncomp=self.comp[n] \n",
    "            vnodes=[v for v in self if self.comp[v]==ncomp] \n",
    "            return Tree(self.subgraph(vnodes)) \n",
    "        else: \n",
    "            trees=[] \n",
    "            uniqc={} \n",
    "            # make a unique list of component id's (integers) \n",
    "            for c in self.comp.values():  \n",
    "                uniqc[c]=True \n",
    "            for c in uniqc.keys(): \n",
    "                vnodes=[v for v in self if self.comp[v]==c] \n",
    "                trees.append(Tree(self.subgraph(vnodes))) \n",
    "            return trees \n",
    " \n",
    "    def tree_nodes(self,n=None): \n",
    "        \"\"\"Return tree containing node n. \n",
    "        If no node is specified return list of all trees in forest. \n",
    "        \"\"\" \n",
    "        if n is not None: \n",
    "            return self.tree(n).nodes() \n",
    "        else: \n",
    "            tlist=[] \n",
    "            for t in self.tree(): \n",
    "                tlist.append(t.nodes()) \n",
    "            return tlist \n",
    "         \n",
    "class DirectedForest(DiGraph,Tree): \n",
    "    # not implemented \n",
    "    pass \n",
    " \n",
    "def _test_suite(): \n",
    "    import doctest \n",
    "    suite = doctest.DocFileSuite('tests/tree.txt', \n",
    "                                 'tests/forest.txt', \n",
    "                                 package='networkx') \n",
    "    return suite \n",
    " \n",
    "if __name__ == \"__main__\": \n",
    "    import os \n",
    "    import sys \n",
    "    import unittest \n",
    "    if sys.version_info[:2] < (2, 4): \n",
    "        print (\"Python version 2.4 or later required for tests (%d.%d detected).\" %  sys.version_info[:2] )\n",
    "        sys.exit(-1) \n",
    "    # directory of networkx package (relative to this) \n",
    "    nxbase=sys.path[0]+os.sep+os.pardir \n",
    "    sys.path.insert(0,nxbase) # prepend to search path \n",
    "    unittest.TextTestRunner().run(_test_suite()) "
   ]
  },
  {
   "cell_type": "code",
   "execution_count": 35,
   "metadata": {
    "collapsed": false
   },
   "outputs": [],
   "source": [
    "#import networkx.Graph as Graph \n",
    "#import networkx.Digraph as DiGraph \n",
    "#from  networkx.exception import NetworkXException, NetworkXError \n",
    "#import networkx.convert as convert \n",
    "#import networkx.component as component \n",
    "#import networkx.path as shortest_path \n"
   ]
  },
  {
   "cell_type": "code",
   "execution_count": 29,
   "metadata": {
    "collapsed": false
   },
   "outputs": [
    {
     "ename": "FileNotFoundError",
     "evalue": "[Errno 2] No such file or directory: 'C:\\\\Users\\\\Wei\\\\Anaconda3\\\\lib\\\\site-packages\\\\networkx\\\\tests\\\\tree.txt'",
     "output_type": "error",
     "traceback": [
      "\u001b[1;31m---------------------------------------------------------------------------\u001b[0m",
      "\u001b[1;31mFileNotFoundError\u001b[0m                         Traceback (most recent call last)",
      "\u001b[1;32m<ipython-input-29-a44acc4b8558>\u001b[0m in \u001b[0;36m<module>\u001b[1;34m()\u001b[0m\n\u001b[0;32m    190\u001b[0m     \u001b[0mnxbase\u001b[0m\u001b[1;33m=\u001b[0m\u001b[0msys\u001b[0m\u001b[1;33m.\u001b[0m\u001b[0mpath\u001b[0m\u001b[1;33m[\u001b[0m\u001b[1;36m0\u001b[0m\u001b[1;33m]\u001b[0m\u001b[1;33m+\u001b[0m\u001b[0mos\u001b[0m\u001b[1;33m.\u001b[0m\u001b[0msep\u001b[0m\u001b[1;33m+\u001b[0m\u001b[0mos\u001b[0m\u001b[1;33m.\u001b[0m\u001b[0mpardir\u001b[0m\u001b[1;33m\u001b[0m\u001b[0m\n\u001b[0;32m    191\u001b[0m     \u001b[0msys\u001b[0m\u001b[1;33m.\u001b[0m\u001b[0mpath\u001b[0m\u001b[1;33m.\u001b[0m\u001b[0minsert\u001b[0m\u001b[1;33m(\u001b[0m\u001b[1;36m0\u001b[0m\u001b[1;33m,\u001b[0m\u001b[0mnxbase\u001b[0m\u001b[1;33m)\u001b[0m \u001b[1;31m# prepend to search path\u001b[0m\u001b[1;33m\u001b[0m\u001b[0m\n\u001b[1;32m--> 192\u001b[1;33m     \u001b[0munittest\u001b[0m\u001b[1;33m.\u001b[0m\u001b[0mTextTestRunner\u001b[0m\u001b[1;33m(\u001b[0m\u001b[1;33m)\u001b[0m\u001b[1;33m.\u001b[0m\u001b[0mrun\u001b[0m\u001b[1;33m(\u001b[0m\u001b[0m_test_suite\u001b[0m\u001b[1;33m(\u001b[0m\u001b[1;33m)\u001b[0m\u001b[1;33m)\u001b[0m\u001b[1;33m\u001b[0m\u001b[0m\n\u001b[0m",
      "\u001b[1;32m<ipython-input-29-a44acc4b8558>\u001b[0m in \u001b[0;36m_test_suite\u001b[1;34m()\u001b[0m\n\u001b[0;32m    180\u001b[0m     suite = doctest.DocFileSuite('tests/tree.txt', \n\u001b[0;32m    181\u001b[0m                                  \u001b[1;34m'tests/forest.txt'\u001b[0m\u001b[1;33m,\u001b[0m\u001b[1;33m\u001b[0m\u001b[0m\n\u001b[1;32m--> 182\u001b[1;33m                                  package='networkx') \n\u001b[0m\u001b[0;32m    183\u001b[0m     \u001b[1;32mreturn\u001b[0m \u001b[0msuite\u001b[0m\u001b[1;33m\u001b[0m\u001b[0m\n\u001b[0;32m    184\u001b[0m \u001b[1;33m\u001b[0m\u001b[0m\n",
      "\u001b[1;32mC:\\Users\\Wei\\Anaconda3\\lib\\doctest.py\u001b[0m in \u001b[0;36mDocFileSuite\u001b[1;34m(*paths, **kw)\u001b[0m\n\u001b[0;32m   2498\u001b[0m \u001b[1;33m\u001b[0m\u001b[0m\n\u001b[0;32m   2499\u001b[0m     \u001b[1;32mfor\u001b[0m \u001b[0mpath\u001b[0m \u001b[1;32min\u001b[0m \u001b[0mpaths\u001b[0m\u001b[1;33m:\u001b[0m\u001b[1;33m\u001b[0m\u001b[0m\n\u001b[1;32m-> 2500\u001b[1;33m         \u001b[0msuite\u001b[0m\u001b[1;33m.\u001b[0m\u001b[0maddTest\u001b[0m\u001b[1;33m(\u001b[0m\u001b[0mDocFileTest\u001b[0m\u001b[1;33m(\u001b[0m\u001b[0mpath\u001b[0m\u001b[1;33m,\u001b[0m \u001b[1;33m**\u001b[0m\u001b[0mkw\u001b[0m\u001b[1;33m)\u001b[0m\u001b[1;33m)\u001b[0m\u001b[1;33m\u001b[0m\u001b[0m\n\u001b[0m\u001b[0;32m   2501\u001b[0m \u001b[1;33m\u001b[0m\u001b[0m\n\u001b[0;32m   2502\u001b[0m     \u001b[1;32mreturn\u001b[0m \u001b[0msuite\u001b[0m\u001b[1;33m\u001b[0m\u001b[0m\n",
      "\u001b[1;32mC:\\Users\\Wei\\Anaconda3\\lib\\doctest.py\u001b[0m in \u001b[0;36mDocFileTest\u001b[1;34m(path, module_relative, package, globs, parser, encoding, **options)\u001b[0m\n\u001b[0;32m   2421\u001b[0m     \u001b[1;31m# Relativize the path.\u001b[0m\u001b[1;33m\u001b[0m\u001b[1;33m\u001b[0m\u001b[0m\n\u001b[0;32m   2422\u001b[0m     doc, path = _load_testfile(path, package, module_relative,\n\u001b[1;32m-> 2423\u001b[1;33m                                encoding or \"utf-8\")\n\u001b[0m\u001b[0;32m   2424\u001b[0m \u001b[1;33m\u001b[0m\u001b[0m\n\u001b[0;32m   2425\u001b[0m     \u001b[1;32mif\u001b[0m \u001b[1;34m\"__file__\"\u001b[0m \u001b[1;32mnot\u001b[0m \u001b[1;32min\u001b[0m \u001b[0mglobs\u001b[0m\u001b[1;33m:\u001b[0m\u001b[1;33m\u001b[0m\u001b[0m\n",
      "\u001b[1;32mC:\\Users\\Wei\\Anaconda3\\lib\\doctest.py\u001b[0m in \u001b[0;36m_load_testfile\u001b[1;34m(filename, package, module_relative, encoding)\u001b[0m\n\u001b[0;32m    219\u001b[0m         \u001b[1;32mif\u001b[0m \u001b[0mgetattr\u001b[0m\u001b[1;33m(\u001b[0m\u001b[0mpackage\u001b[0m\u001b[1;33m,\u001b[0m \u001b[1;34m'__loader__'\u001b[0m\u001b[1;33m,\u001b[0m \u001b[1;32mNone\u001b[0m\u001b[1;33m)\u001b[0m \u001b[1;32mis\u001b[0m \u001b[1;32mnot\u001b[0m \u001b[1;32mNone\u001b[0m\u001b[1;33m:\u001b[0m\u001b[1;33m\u001b[0m\u001b[0m\n\u001b[0;32m    220\u001b[0m             \u001b[1;32mif\u001b[0m \u001b[0mhasattr\u001b[0m\u001b[1;33m(\u001b[0m\u001b[0mpackage\u001b[0m\u001b[1;33m.\u001b[0m\u001b[0m__loader__\u001b[0m\u001b[1;33m,\u001b[0m \u001b[1;34m'get_data'\u001b[0m\u001b[1;33m)\u001b[0m\u001b[1;33m:\u001b[0m\u001b[1;33m\u001b[0m\u001b[0m\n\u001b[1;32m--> 221\u001b[1;33m                 \u001b[0mfile_contents\u001b[0m \u001b[1;33m=\u001b[0m \u001b[0mpackage\u001b[0m\u001b[1;33m.\u001b[0m\u001b[0m__loader__\u001b[0m\u001b[1;33m.\u001b[0m\u001b[0mget_data\u001b[0m\u001b[1;33m(\u001b[0m\u001b[0mfilename\u001b[0m\u001b[1;33m)\u001b[0m\u001b[1;33m\u001b[0m\u001b[0m\n\u001b[0m\u001b[0;32m    222\u001b[0m                 \u001b[0mfile_contents\u001b[0m \u001b[1;33m=\u001b[0m \u001b[0mfile_contents\u001b[0m\u001b[1;33m.\u001b[0m\u001b[0mdecode\u001b[0m\u001b[1;33m(\u001b[0m\u001b[0mencoding\u001b[0m\u001b[1;33m)\u001b[0m\u001b[1;33m\u001b[0m\u001b[0m\n\u001b[0;32m    223\u001b[0m                 \u001b[1;31m# get_data() opens files as 'rb', so one must do the equivalent\u001b[0m\u001b[1;33m\u001b[0m\u001b[1;33m\u001b[0m\u001b[0m\n",
      "\u001b[1;32mC:\\Users\\Wei\\Anaconda3\\lib\\importlib\\_bootstrap.py\u001b[0m in \u001b[0;36mget_data\u001b[1;34m(self, path)\u001b[0m\n",
      "\u001b[1;31mFileNotFoundError\u001b[0m: [Errno 2] No such file or directory: 'C:\\\\Users\\\\Wei\\\\Anaconda3\\\\lib\\\\site-packages\\\\networkx\\\\tests\\\\tree.txt'"
     ]
    }
   ],
   "source": [
    "# \n",
    "import networkx\n",
    "\n",
    "class Tree(networkx.Graph): \n",
    "    \"\"\" A free (unrooted) tree.\"\"\" \n",
    "    def __init__(self,data=None,**kwds): \n",
    "        networkx.Graph.__init__(self,**kwds) \n",
    "        if data is not None: \n",
    "            try: # build a graph \n",
    "                G=networkx.Graph() \n",
    "                G=networkx.convert.from_whatever(data,create_using=G) \n",
    "            except: \n",
    "                print('err')\n",
    "            if G.order()==G.size()+1 and component.number_connected_components(G)==1: \n",
    "                self.adj=G.adj.copy() \n",
    "                del G \n",
    "            else: \n",
    "                raise (NetworkXError, \"Data %s is not a tree\"%data) \n",
    "              \n",
    "    def add_node(self, n): \n",
    "        if n in self: \n",
    "            return # already in tree \n",
    "        elif len(self.adj)==0: \n",
    "            Graph.add_node(self,n) # first node \n",
    "        else:  # not allowed \n",
    "            raise NetworkXError(\"adding single node %s not allowed in non-empty tree\"%(n)) \n",
    " \n",
    "    def add_nodes_from(self, nbunch): \n",
    "        for n in nbunch: \n",
    "            self.add_node(n) \n",
    " \n",
    "    def delete_node(self, n): \n",
    "        try: \n",
    "            if len(self.adj[n])==1: # allowed for leaf node \n",
    "                Graph.delete_node(self,n) \n",
    "            else: \n",
    "                raise NetworkXError(\"deleting interior node %s not allowed in tree\"%(n)) \n",
    "        except KeyError: # NetworkXError if n not in self \n",
    "            raise NetworkXError(\"node %s not in graph\"%n) \n",
    " \n",
    "    def delete_nodes_from(self, nbunch): \n",
    "        for n in nbunch: \n",
    "            self.delete_node(n) \n",
    " \n",
    "    def add_edge(self, u, v=None):   \n",
    "        if v is None: (u,v)=u  # no v given, assume u is an edge tuple \n",
    "        if self.has_edge(u,v): return # no parallel edges allowed \n",
    "        elif u in self and v in self: \n",
    "            raise NetworkXError(\"adding edge %s-%s not allowed in tree\"%(u,v)) \n",
    "        elif u in self or v in self: \n",
    "            networkx.Graph.add_edge(self,u,v) \n",
    "            return \n",
    "        elif len(self.adj)==0: # first leaf \n",
    "            networkx.Graph.add_edge(self,u,v)             \n",
    "            return \n",
    "        else: \n",
    "            raise NetworkXError(\"adding edge %s-%s not allowed in tree\"%(u,v)) \n",
    "             \n",
    "    def add_edges_from(self, ebunch):   \n",
    "        for e in ebunch: \n",
    "            self.add_edge(e) \n",
    "             \n",
    "    def delete_edge(self, u, v=None):  \n",
    "        if v is None: (u,v)=u \n",
    "        if self.degree(u)==1 or self.degree(v)==1: # leaf edge \n",
    "            Graph.delete_edge(self,u,v) \n",
    "        else: # interior edge \n",
    "            raise NetworkXError(\"deleting interior edge %s-%s not allowed in tree\"%(u,v)) \n",
    "        if self.degree(u)==0:  # OK to delete remaining isolated node \n",
    "            Graph.delete_node(self,u) \n",
    "        if self.degree(v)==0:  # OK to delete remaining isolated node           \n",
    "            Graph.delete_node(self,v) \n",
    " \n",
    "    def delete_edges_from(self, ebunch):   \n",
    "        for e in ebunch: \n",
    "            self.delete_edge(e) \n",
    " \n",
    "    # leaf notation             \n",
    "    def add_leaf(self, u, v=None):   \n",
    "        self.add_edge(u,v) \n",
    " \n",
    "    def delete_leaf(self, u, v=None):  \n",
    "        self.delete_edge(u,v) \n",
    " \n",
    "    def add_leaves_from(self, ebunch):   \n",
    "        for e in ebunch: \n",
    "            self.add_leaf(e) \n",
    " \n",
    "    def delete_leaves_from(self, ebunch):   \n",
    "        for e in ebunch: \n",
    "            self.delete_leaf(e) \n",
    " \n",
    "    def union_sub(self, T1, **kwds): \n",
    "        \"\"\"Polymorphic helper method for Graph.union(). \n",
    " \n",
    "        Required keywords: v_from and v_to, where v_from is the node \n",
    "        in self to which v_to should be attached as child.\"\"\" \n",
    "        T = self.copy() \n",
    "        parent = kwds['v_from'] \n",
    "        node = kwds['v_to'] \n",
    "        T.add_edge(parent, node) \n",
    "        T.union_sub_tree_helper(T1, node) \n",
    "        return T \n",
    " \n",
    "    def union_sub_tree_helper(self, T1, parent, grandparent=None): \n",
    "        for child in T1[parent]: \n",
    "            if(child != grandparent): \n",
    "                self.add_edge(parent, child) \n",
    "                self.union_sub_tree_helper(T1, child, parent) \n",
    " \n",
    " \n",
    "class RootedTree(Tree,networkx.Graph): \n",
    "    \"\"\" A rooted tree.\"\"\" \n",
    "    def __init__(self,root,data=None,**kwds): \n",
    "        Tree.__init__(self,data=data,**kwds) \n",
    "        self.root=root \n",
    "        self.par={} # keep track of parent \n",
    "        if data is not None: # handle input data, could be Tree, etc. \n",
    "            # now root tree for this data \n",
    "            self.root_tree(root)             \n",
    " \n",
    "    # parents, use predecessors \n",
    "    # children, use successors \n",
    " \n",
    "    def delete_node(self, n): \n",
    "        try: \n",
    "            if len(self.adj[n])==1: # allowed for leaf node \n",
    "                Graph.delete_node(self,n) \n",
    "                del self.par[n] \n",
    "            else: \n",
    "                raise NetworkXError (\"deleting interior node %s not allowed in tree\"%(n))\n",
    "        except KeyError: # NetworkXError if n not in self \n",
    "            raise NetworkXError (\"node %s not in graph\"%n )\n",
    " \n",
    " \n",
    "    def add_edge(self, u, v=None):   \n",
    "        if v is None: \n",
    "            (u,v)=u  # no v given, assume u is an edge tuple \n",
    "        if self.has_edge(u,v):  # no parallel edges \n",
    "            return \n",
    "        elif u in self and v in self: \n",
    "            raise NetworkXError (\"adding edge %s-%s not allowed in tree\"%(u,v) )\n",
    "        elif u in self: \n",
    "            Graph.add_edge(self,u,v) \n",
    "            self.par[v]=u \n",
    "            return \n",
    "        elif v in self: \n",
    "            Graph.add_edge(self,u,v) \n",
    "            self.par[u]=v \n",
    "            return \n",
    "        elif len(self.adj)==0: # first leaf \n",
    "            Graph.add_edge(self,u,v)             \n",
    "            self.par[v]=u   # u is v's parent           \n",
    "            return \n",
    "        else: \n",
    "            raise NetworkXError(\"adding edge %s-%s not allowed in tree\"%(u,v) )\n",
    "             \n",
    "    def parent(self,u): \n",
    "        try: \n",
    "            return self.par[u] \n",
    "        except: \n",
    "            return None \n",
    " \n",
    "             \n",
    "    def children(self,u): \n",
    "        #FIXME reverse parent dict \n",
    "        pass \n",
    " \n",
    " \n",
    "    def root_tree(self,root):         \n",
    "        preds=shortest_path.predecessor(self,root) \n",
    "        del preds[root] \n",
    "        for p in preds: \n",
    "            self.par[p]=preds[p][0] # preds[node] is an array  \n",
    " \n",
    " \n",
    "\n",
    "def _test_suite(): \n",
    "    import doctest \n",
    "    suite = doctest.DocFileSuite('tests/tree.txt', \n",
    "                                 'tests/forest.txt', \n",
    "                                 package='networkx') \n",
    "    return suite \n",
    " \n",
    "if __name__ == \"__main__\": \n",
    "    import os \n",
    "    import sys \n",
    "    import unittest \n",
    "\n",
    "    nxbase=sys.path[0]+os.sep+os.pardir \n",
    "    sys.path.insert(0,nxbase) # prepend to search path \n",
    "    unittest.TextTestRunner().run(_test_suite()) "
   ]
  },
  {
   "cell_type": "code",
   "execution_count": 30,
   "metadata": {
    "collapsed": false
   },
   "outputs": [],
   "source": [
    "treeA=Tree()"
   ]
  },
  {
   "cell_type": "code",
   "execution_count": 31,
   "metadata": {
    "collapsed": false
   },
   "outputs": [],
   "source": [
    "treeA.add_edge(2,3)"
   ]
  },
  {
   "cell_type": "code",
   "execution_count": 24,
   "metadata": {
    "collapsed": false
   },
   "outputs": [
    {
     "data": {
      "text/plain": [
       "{}"
      ]
     },
     "execution_count": 24,
     "metadata": {},
     "output_type": "execute_result"
    }
   ],
   "source": [
    "treeA.graph"
   ]
  },
  {
   "cell_type": "code",
   "execution_count": 35,
   "metadata": {
    "collapsed": false
   },
   "outputs": [
    {
     "data": {
      "text/plain": [
       "{}"
      ]
     },
     "execution_count": 35,
     "metadata": {},
     "output_type": "execute_result"
    }
   ],
   "source": [
    "treeA.graph"
   ]
  },
  {
   "cell_type": "code",
   "execution_count": 37,
   "metadata": {
    "collapsed": false
   },
   "outputs": [
    {
     "data": {
      "text/plain": [
       "{}"
      ]
     },
     "execution_count": 37,
     "metadata": {},
     "output_type": "execute_result"
    }
   ],
   "source": [
    "treeA.graph"
   ]
  },
  {
   "cell_type": "code",
   "execution_count": 38,
   "metadata": {
    "collapsed": false
   },
   "outputs": [
    {
     "ename": "ImportError",
     "evalue": "No module named 'pydot'",
     "output_type": "error",
     "traceback": [
      "\u001b[1;31m---------------------------------------------------------------------------\u001b[0m",
      "\u001b[1;31mImportError\u001b[0m                               Traceback (most recent call last)",
      "\u001b[1;32m<ipython-input-38-950f5b631666>\u001b[0m in \u001b[0;36m<module>\u001b[1;34m()\u001b[0m\n\u001b[1;32m----> 1\u001b[1;33m \u001b[1;32mimport\u001b[0m \u001b[0mpydot\u001b[0m\u001b[1;33m\u001b[0m\u001b[0m\n\u001b[0m\u001b[0;32m      2\u001b[0m \u001b[1;33m\u001b[0m\u001b[0m\n\u001b[0;32m      3\u001b[0m \u001b[0mtree\u001b[0m\u001b[1;33m=\u001b[0m \u001b[1;33m{\u001b[0m\u001b[1;34m'salary'\u001b[0m\u001b[1;33m:\u001b[0m \u001b[1;33m{\u001b[0m\u001b[1;34m'41k-45k'\u001b[0m\u001b[1;33m:\u001b[0m \u001b[1;34m'junior'\u001b[0m\u001b[1;33m,\u001b[0m \u001b[1;34m'46k-50k'\u001b[0m\u001b[1;33m:\u001b[0m \u001b[1;33m{\u001b[0m\u001b[1;34m'department'\u001b[0m\u001b[1;33m:\u001b[0m \u001b[1;33m{\u001b[0m\u001b[1;34m'marketing'\u001b[0m\u001b[1;33m:\u001b[0m \u001b[1;34m'senior'\u001b[0m\u001b[1;33m,\u001b[0m \u001b[1;34m'sales'\u001b[0m\u001b[1;33m:\u001b[0m \u001b[1;34m'senior'\u001b[0m\u001b[1;33m,\u001b[0m \u001b[1;34m'systems'\u001b[0m\u001b[1;33m:\u001b[0m \u001b[1;34m'junior'\u001b[0m\u001b[1;33m}\u001b[0m\u001b[1;33m}\u001b[0m\u001b[1;33m,\u001b[0m \u001b[1;34m'36k-40k'\u001b[0m\u001b[1;33m:\u001b[0m \u001b[1;34m'senior'\u001b[0m\u001b[1;33m,\u001b[0m \u001b[1;34m'26k-30k'\u001b[0m\u001b[1;33m:\u001b[0m \u001b[1;34m'junior'\u001b[0m\u001b[1;33m,\u001b[0m \u001b[1;34m'31k-35k'\u001b[0m\u001b[1;33m:\u001b[0m \u001b[1;34m'junior'\u001b[0m\u001b[1;33m,\u001b[0m \u001b[1;34m'66k-70k'\u001b[0m\u001b[1;33m:\u001b[0m \u001b[1;34m'senior'\u001b[0m\u001b[1;33m}\u001b[0m\u001b[1;33m}\u001b[0m\u001b[1;33m\u001b[0m\u001b[0m\n\u001b[0;32m      4\u001b[0m \u001b[1;33m\u001b[0m\u001b[0m\n\u001b[0;32m      5\u001b[0m \u001b[1;32mdef\u001b[0m \u001b[0mwalk_dictionaryv2\u001b[0m\u001b[1;33m(\u001b[0m\u001b[0mgraph\u001b[0m\u001b[1;33m,\u001b[0m \u001b[0mdictionary\u001b[0m\u001b[1;33m,\u001b[0m \u001b[0mparent_node\u001b[0m\u001b[1;33m=\u001b[0m\u001b[1;32mNone\u001b[0m\u001b[1;33m)\u001b[0m\u001b[1;33m:\u001b[0m\u001b[1;33m\u001b[0m\u001b[0m\n",
      "\u001b[1;31mImportError\u001b[0m: No module named 'pydot'"
     ]
    }
   ],
   "source": [
    "import pydot\n",
    "\n",
    "tree= {'salary': {'41k-45k': 'junior', '46k-50k': {'department': {'marketing': 'senior', 'sales': 'senior', 'systems': 'junior'}}, '36k-40k': 'senior', '26k-30k': 'junior', '31k-35k': 'junior', '66k-70k': 'senior'}}\n",
    "\n",
    "def walk_dictionaryv2(graph, dictionary, parent_node=None):\n",
    "    '''\n",
    "    Recursive plotting function for the decision tree stored as a dictionary\n",
    "    '''\n",
    "\n",
    "    for k in dictionary.keys():\n",
    "\n",
    "        if parent_node is not None:\n",
    "\n",
    "            from_name = parent_node.get_name().replace(\"\\\"\", \"\") + '_' + str(k)\n",
    "            from_label = str(k)\n",
    "\n",
    "            node_from = pydot.Node(from_name, label=from_label)\n",
    "\n",
    "            graph.add_edge( pydot.Edge(parent_node, node_from) )\n",
    "\n",
    "            if isinstance(dictionary[k], dict): # if interim node\n",
    "\n",
    "\n",
    "                walk_dictionaryv2(graph, dictionary[k], node_from)\n",
    "\n",
    "            else: # if leaf node\n",
    "                to_name = str(k) + '_' + str(dictionary[k]) # unique name\n",
    "                to_label = str(dictionary[k])\n",
    "\n",
    "                node_to = pydot.Node(to_name, label=to_label, shape='box')\n",
    "                graph.add_edge(pydot.Edge(node_from, node_to))\n",
    "\n",
    "                #node_from.set_name(to_name)\n",
    "\n",
    "        else:\n",
    "\n",
    "            from_name =  str(k)\n",
    "            from_label = str(k)\n",
    "\n",
    "            node_from = pydot.Node(from_name, label=from_label)\n",
    "            walk_dictionaryv2(graph, dictionary[k], node_from)\n",
    "\n",
    "\n",
    "def plot_tree(tree, name):\n",
    "\n",
    "    # first you create a new graph, you do that with pydot.Dot()\n",
    "    graph = pydot.Dot(graph_type='graph')\n",
    "\n",
    "    walk_dictionaryv2(graph, tree)\n",
    "\n",
    "    graph.write_png(name+'.png')\n",
    "\n",
    "\n",
    "plot_tree(tree,'name')"
   ]
  },
  {
   "cell_type": "code",
   "execution_count": 40,
   "metadata": {
    "collapsed": false
   },
   "outputs": [
    {
     "name": "stdout",
     "output_type": "stream",
     "text": [
      "[1, 2, 'spam']\n",
      "[(1, 2)]\n"
     ]
    }
   ],
   "source": [
    "import networkx as nx\n",
    "G=nx.Graph()\n",
    "G.add_node(\"spam\")\n",
    "G.add_edge(1,2)\n",
    "print(G.nodes())\n",
    "print(G.edges())\n"
   ]
  },
  {
   "cell_type": "code",
   "execution_count": 41,
   "metadata": {
    "collapsed": false
   },
   "outputs": [
    {
     "ename": "ImportError",
     "evalue": "('requires pygraphviz ', 'http://networkx.lanl.gov/pygraphviz ', '(not available for Python3)')",
     "output_type": "error",
     "traceback": [
      "\u001b[1;31m---------------------------------------------------------------------------\u001b[0m",
      "\u001b[1;31mImportError\u001b[0m                               Traceback (most recent call last)",
      "\u001b[1;32mC:\\Users\\Wei\\Anaconda3\\lib\\site-packages\\networkx\\drawing\\nx_agraph.py\u001b[0m in \u001b[0;36mpygraphviz_layout\u001b[1;34m(G, prog, root, args)\u001b[0m\n\u001b[0;32m    255\u001b[0m     \u001b[1;32mtry\u001b[0m\u001b[1;33m:\u001b[0m\u001b[1;33m\u001b[0m\u001b[0m\n\u001b[1;32m--> 256\u001b[1;33m         \u001b[1;32mimport\u001b[0m \u001b[0mpygraphviz\u001b[0m\u001b[1;33m\u001b[0m\u001b[0m\n\u001b[0m\u001b[0;32m    257\u001b[0m     \u001b[1;32mexcept\u001b[0m \u001b[0mImportError\u001b[0m\u001b[1;33m:\u001b[0m\u001b[1;33m\u001b[0m\u001b[0m\n",
      "\u001b[1;31mImportError\u001b[0m: No module named 'pygraphviz'",
      "\nDuring handling of the above exception, another exception occurred:\n",
      "\u001b[1;31mImportError\u001b[0m                               Traceback (most recent call last)",
      "\u001b[1;32m<ipython-input-41-79ea2c75f864>\u001b[0m in \u001b[0;36m<module>\u001b[1;34m()\u001b[0m\n\u001b[0;32m      9\u001b[0m \u001b[1;33m\u001b[0m\u001b[0m\n\u001b[0;32m     10\u001b[0m \u001b[0mG\u001b[0m\u001b[1;33m=\u001b[0m\u001b[0mnx\u001b[0m\u001b[1;33m.\u001b[0m\u001b[0mbalanced_tree\u001b[0m\u001b[1;33m(\u001b[0m\u001b[1;36m3\u001b[0m\u001b[1;33m,\u001b[0m\u001b[1;36m5\u001b[0m\u001b[1;33m)\u001b[0m\u001b[1;33m\u001b[0m\u001b[0m\n\u001b[1;32m---> 11\u001b[1;33m \u001b[0mpos\u001b[0m\u001b[1;33m=\u001b[0m\u001b[0mnx\u001b[0m\u001b[1;33m.\u001b[0m\u001b[0mgraphviz_layout\u001b[0m\u001b[1;33m(\u001b[0m\u001b[0mG\u001b[0m\u001b[1;33m,\u001b[0m\u001b[0mprog\u001b[0m\u001b[1;33m=\u001b[0m\u001b[1;34m'twopi'\u001b[0m\u001b[1;33m,\u001b[0m\u001b[0margs\u001b[0m\u001b[1;33m=\u001b[0m\u001b[1;34m''\u001b[0m\u001b[1;33m)\u001b[0m\u001b[1;33m\u001b[0m\u001b[0m\n\u001b[0m\u001b[0;32m     12\u001b[0m \u001b[0mplt\u001b[0m\u001b[1;33m.\u001b[0m\u001b[0mfigure\u001b[0m\u001b[1;33m(\u001b[0m\u001b[0mfigsize\u001b[0m\u001b[1;33m=\u001b[0m\u001b[1;33m(\u001b[0m\u001b[1;36m8\u001b[0m\u001b[1;33m,\u001b[0m\u001b[1;36m8\u001b[0m\u001b[1;33m)\u001b[0m\u001b[1;33m)\u001b[0m\u001b[1;33m\u001b[0m\u001b[0m\n\u001b[0;32m     13\u001b[0m \u001b[0mnx\u001b[0m\u001b[1;33m.\u001b[0m\u001b[0mdraw\u001b[0m\u001b[1;33m(\u001b[0m\u001b[0mG\u001b[0m\u001b[1;33m,\u001b[0m\u001b[0mpos\u001b[0m\u001b[1;33m,\u001b[0m\u001b[0mnode_size\u001b[0m\u001b[1;33m=\u001b[0m\u001b[1;36m20\u001b[0m\u001b[1;33m,\u001b[0m\u001b[0malpha\u001b[0m\u001b[1;33m=\u001b[0m\u001b[1;36m0.5\u001b[0m\u001b[1;33m,\u001b[0m\u001b[0mnode_color\u001b[0m\u001b[1;33m=\u001b[0m\u001b[1;34m\"blue\"\u001b[0m\u001b[1;33m,\u001b[0m \u001b[0mwith_labels\u001b[0m\u001b[1;33m=\u001b[0m\u001b[1;32mFalse\u001b[0m\u001b[1;33m)\u001b[0m\u001b[1;33m\u001b[0m\u001b[0m\n",
      "\u001b[1;32mC:\\Users\\Wei\\Anaconda3\\lib\\site-packages\\networkx\\drawing\\nx_agraph.py\u001b[0m in \u001b[0;36mgraphviz_layout\u001b[1;34m(G, prog, root, args)\u001b[0m\n\u001b[0;32m    227\u001b[0m \u001b[1;33m\u001b[0m\u001b[0m\n\u001b[0;32m    228\u001b[0m     \"\"\"\n\u001b[1;32m--> 229\u001b[1;33m     \u001b[1;32mreturn\u001b[0m \u001b[0mpygraphviz_layout\u001b[0m\u001b[1;33m(\u001b[0m\u001b[0mG\u001b[0m\u001b[1;33m,\u001b[0m\u001b[0mprog\u001b[0m\u001b[1;33m=\u001b[0m\u001b[0mprog\u001b[0m\u001b[1;33m,\u001b[0m\u001b[0mroot\u001b[0m\u001b[1;33m=\u001b[0m\u001b[0mroot\u001b[0m\u001b[1;33m,\u001b[0m\u001b[0margs\u001b[0m\u001b[1;33m=\u001b[0m\u001b[0margs\u001b[0m\u001b[1;33m)\u001b[0m\u001b[1;33m\u001b[0m\u001b[0m\n\u001b[0m\u001b[0;32m    230\u001b[0m \u001b[1;33m\u001b[0m\u001b[0m\n\u001b[0;32m    231\u001b[0m \u001b[1;32mdef\u001b[0m \u001b[0mpygraphviz_layout\u001b[0m\u001b[1;33m(\u001b[0m\u001b[0mG\u001b[0m\u001b[1;33m,\u001b[0m\u001b[0mprog\u001b[0m\u001b[1;33m=\u001b[0m\u001b[1;34m'neato'\u001b[0m\u001b[1;33m,\u001b[0m\u001b[0mroot\u001b[0m\u001b[1;33m=\u001b[0m\u001b[1;32mNone\u001b[0m\u001b[1;33m,\u001b[0m \u001b[0margs\u001b[0m\u001b[1;33m=\u001b[0m\u001b[1;34m''\u001b[0m\u001b[1;33m)\u001b[0m\u001b[1;33m:\u001b[0m\u001b[1;33m\u001b[0m\u001b[0m\n",
      "\u001b[1;32mC:\\Users\\Wei\\Anaconda3\\lib\\site-packages\\networkx\\drawing\\nx_agraph.py\u001b[0m in \u001b[0;36mpygraphviz_layout\u001b[1;34m(G, prog, root, args)\u001b[0m\n\u001b[0;32m    258\u001b[0m         raise ImportError('requires pygraphviz ',\n\u001b[0;32m    259\u001b[0m                           \u001b[1;34m'http://networkx.lanl.gov/pygraphviz '\u001b[0m\u001b[1;33m,\u001b[0m\u001b[1;33m\u001b[0m\u001b[0m\n\u001b[1;32m--> 260\u001b[1;33m                           '(not available for Python3)')\n\u001b[0m\u001b[0;32m    261\u001b[0m     \u001b[1;32mif\u001b[0m \u001b[0mroot\u001b[0m \u001b[1;32mis\u001b[0m \u001b[1;32mnot\u001b[0m \u001b[1;32mNone\u001b[0m\u001b[1;33m:\u001b[0m\u001b[1;33m\u001b[0m\u001b[0m\n\u001b[0;32m    262\u001b[0m         \u001b[0margs\u001b[0m\u001b[1;33m+=\u001b[0m\u001b[1;34m\"-Groot=%s\"\u001b[0m\u001b[1;33m%\u001b[0m\u001b[0mroot\u001b[0m\u001b[1;33m\u001b[0m\u001b[0m\n",
      "\u001b[1;31mImportError\u001b[0m: ('requires pygraphviz ', 'http://networkx.lanl.gov/pygraphviz ', '(not available for Python3)')"
     ]
    }
   ],
   "source": [
    "import networkx as nx\n",
    "import matplotlib.pyplot as plt\n",
    "\n",
    "try:\n",
    "    from networkx import graphviz_layout\n",
    "except ImportError:\n",
    "    raise ImportError(\"This example needs Graphviz and either PyGraphviz or Pydot\")\n",
    "\n",
    "\n",
    "G=nx.balanced_tree(3,5)\n",
    "pos=nx.graphviz_layout(G,prog='twopi',args='')\n",
    "plt.figure(figsize=(8,8))\n",
    "nx.draw(G,pos,node_size=20,alpha=0.5,node_color=\"blue\", with_labels=False)\n",
    "plt.axis('equal')\n",
    "plt.savefig('circular_tree.png')\n",
    "plt.show()"
   ]
  },
  {
   "cell_type": "code",
   "execution_count": 47,
   "metadata": {
    "collapsed": false
   },
   "outputs": [],
   "source": [
    "%matplotlib inline\n",
    "plt.rc('figure', figsize=(10, 6))"
   ]
  },
  {
   "cell_type": "code",
   "execution_count": 42,
   "metadata": {
    "collapsed": true
   },
   "outputs": [],
   "source": [
    "import networkx as nx"
   ]
  },
  {
   "cell_type": "code",
   "execution_count": 57,
   "metadata": {
    "collapsed": true
   },
   "outputs": [],
   "source": [
    "G = nx.path_graph(4)\n",
    "shells = [[0], [1,2,3]]\n"
   ]
  },
  {
   "cell_type": "code",
   "execution_count": 43,
   "metadata": {
    "collapsed": false
   },
   "outputs": [
    {
     "data": {
      "text/plain": [
       "<module 'networkx' from 'C:\\\\Users\\\\Wei\\\\Anaconda3\\\\lib\\\\site-packages\\\\networkx\\\\__init__.py'>"
      ]
     },
     "execution_count": 43,
     "metadata": {},
     "output_type": "execute_result"
    }
   ],
   "source": [
    "networkx"
   ]
  },
  {
   "cell_type": "code",
   "execution_count": 82,
   "metadata": {
    "collapsed": false
   },
   "outputs": [
    {
     "ename": "AttributeError",
     "evalue": "'module' object has no attribute 'pydot_layout'",
     "output_type": "error",
     "traceback": [
      "\u001b[1;31m---------------------------------------------------------------------------\u001b[0m",
      "\u001b[1;31mAttributeError\u001b[0m                            Traceback (most recent call last)",
      "\u001b[1;32m<ipython-input-82-bb9320972c51>\u001b[0m in \u001b[0;36m<module>\u001b[1;34m()\u001b[0m\n\u001b[0;32m      1\u001b[0m \u001b[0mG\u001b[0m\u001b[1;33m=\u001b[0m\u001b[0mnx\u001b[0m\u001b[1;33m.\u001b[0m\u001b[0mbalanced_tree\u001b[0m\u001b[1;33m(\u001b[0m\u001b[1;36m2\u001b[0m\u001b[1;33m,\u001b[0m\u001b[1;36m5\u001b[0m\u001b[1;33m)\u001b[0m\u001b[1;33m\u001b[0m\u001b[0m\n\u001b[1;32m----> 2\u001b[1;33m \u001b[0mpos\u001b[0m \u001b[1;33m=\u001b[0m \u001b[0mnx\u001b[0m\u001b[1;33m.\u001b[0m\u001b[0mpydot_layout\u001b[0m\u001b[1;33m(\u001b[0m\u001b[0mG\u001b[0m\u001b[1;33m)\u001b[0m\u001b[1;33m\u001b[0m\u001b[0m\n\u001b[0m\u001b[0;32m      3\u001b[0m \u001b[0mplt\u001b[0m\u001b[1;33m.\u001b[0m\u001b[0mfigure\u001b[0m\u001b[1;33m(\u001b[0m\u001b[0mfigsize\u001b[0m\u001b[1;33m=\u001b[0m\u001b[1;33m(\u001b[0m\u001b[1;36m8\u001b[0m\u001b[1;33m,\u001b[0m\u001b[1;36m8\u001b[0m\u001b[1;33m)\u001b[0m\u001b[1;33m)\u001b[0m\u001b[1;33m\u001b[0m\u001b[0m\n\u001b[0;32m      4\u001b[0m \u001b[0mnx\u001b[0m\u001b[1;33m.\u001b[0m\u001b[0mdraw\u001b[0m\u001b[1;33m(\u001b[0m\u001b[0mG\u001b[0m\u001b[1;33m,\u001b[0m\u001b[0mpos\u001b[0m\u001b[1;33m,\u001b[0m\u001b[0mnode_size\u001b[0m\u001b[1;33m=\u001b[0m\u001b[1;36m4\u001b[0m\u001b[1;33m,\u001b[0m\u001b[0malpha\u001b[0m\u001b[1;33m=\u001b[0m\u001b[1;36m0.5\u001b[0m\u001b[1;33m,\u001b[0m\u001b[0mnode_color\u001b[0m\u001b[1;33m=\u001b[0m\u001b[1;34m\"blue\"\u001b[0m\u001b[1;33m,\u001b[0m \u001b[0mwith_labels\u001b[0m\u001b[1;33m=\u001b[0m\u001b[1;32mFalse\u001b[0m\u001b[1;33m)\u001b[0m\u001b[1;33m\u001b[0m\u001b[0m\n\u001b[0;32m      5\u001b[0m \u001b[0mplt\u001b[0m\u001b[1;33m.\u001b[0m\u001b[0maxis\u001b[0m\u001b[1;33m(\u001b[0m\u001b[1;34m'equal'\u001b[0m\u001b[1;33m)\u001b[0m\u001b[1;33m\u001b[0m\u001b[0m\n",
      "\u001b[1;31mAttributeError\u001b[0m: 'module' object has no attribute 'pydot_layout'"
     ]
    }
   ],
   "source": [
    "G=nx.balanced_tree(2,5)\n",
    "pos = nx.pydot_layout(G)\n",
    "plt.figure(figsize=(8,8))\n",
    "nx.draw(G,pos,node_size=4,alpha=0.5,node_color=\"blue\", with_labels=False)\n",
    "plt.axis('equal')\n",
    "plt.savefig('circular_tree.png')\n",
    "plt.show()"
   ]
  },
  {
   "cell_type": "code",
   "execution_count": 78,
   "metadata": {
    "collapsed": false
   },
   "outputs": [
    {
     "ename": "AttributeError",
     "evalue": "'module' object has no attribute 'pydot_layout'",
     "output_type": "error",
     "traceback": [
      "\u001b[1;31m---------------------------------------------------------------------------\u001b[0m",
      "\u001b[1;31mAttributeError\u001b[0m                            Traceback (most recent call last)",
      "\u001b[1;32m<ipython-input-78-486b68166187>\u001b[0m in \u001b[0;36m<module>\u001b[1;34m()\u001b[0m\n\u001b[0;32m      1\u001b[0m \u001b[0mG\u001b[0m\u001b[1;33m=\u001b[0m\u001b[0mnx\u001b[0m\u001b[1;33m.\u001b[0m\u001b[0mcomplete_graph\u001b[0m\u001b[1;33m(\u001b[0m\u001b[1;36m4\u001b[0m\u001b[1;33m)\u001b[0m\u001b[1;33m\u001b[0m\u001b[0m\n\u001b[1;32m----> 2\u001b[1;33m \u001b[0mpos\u001b[0m\u001b[1;33m=\u001b[0m\u001b[0mnx\u001b[0m\u001b[1;33m.\u001b[0m\u001b[0mpydot_layout\u001b[0m\u001b[1;33m(\u001b[0m\u001b[0mG\u001b[0m\u001b[1;33m)\u001b[0m\u001b[1;33m\u001b[0m\u001b[0m\n\u001b[0m\u001b[0;32m      3\u001b[0m \u001b[0mpos\u001b[0m\u001b[1;33m=\u001b[0m\u001b[0mnx\u001b[0m\u001b[1;33m.\u001b[0m\u001b[0mpydot_layout\u001b[0m\u001b[1;33m(\u001b[0m\u001b[0mG\u001b[0m\u001b[1;33m,\u001b[0m\u001b[0mprog\u001b[0m\u001b[1;33m=\u001b[0m\u001b[1;34m'dot'\u001b[0m\u001b[1;33m)\u001b[0m\u001b[1;33m\u001b[0m\u001b[0m\n",
      "\u001b[1;31mAttributeError\u001b[0m: 'module' object has no attribute 'pydot_layout'"
     ]
    }
   ],
   "source": [
    "G=nx.complete_graph(4)\n",
    "pos=nx.pydot_layout(G)\n",
    "pos=nx.pydot_layout(G,prog='dot')"
   ]
  },
  {
   "cell_type": "code",
   "execution_count": 84,
   "metadata": {
    "collapsed": true
   },
   "outputs": [],
   "source": [
    "from networkx import graphviz_layout"
   ]
  },
  {
   "cell_type": "code",
   "execution_count": 87,
   "metadata": {
    "collapsed": false
   },
   "outputs": [
    {
     "ename": "ImportError",
     "evalue": "('requires pygraphviz ', 'http://networkx.lanl.gov/pygraphviz ', '(not available for Python3)')",
     "output_type": "error",
     "traceback": [
      "\u001b[1;31m---------------------------------------------------------------------------\u001b[0m",
      "\u001b[1;31mImportError\u001b[0m                               Traceback (most recent call last)",
      "\u001b[1;32mC:\\Users\\Wei\\Anaconda3\\lib\\site-packages\\networkx\\drawing\\nx_agraph.py\u001b[0m in \u001b[0;36mpygraphviz_layout\u001b[1;34m(G, prog, root, args)\u001b[0m\n\u001b[0;32m    255\u001b[0m     \u001b[1;32mtry\u001b[0m\u001b[1;33m:\u001b[0m\u001b[1;33m\u001b[0m\u001b[0m\n\u001b[1;32m--> 256\u001b[1;33m         \u001b[1;32mimport\u001b[0m \u001b[0mpygraphviz\u001b[0m\u001b[1;33m\u001b[0m\u001b[0m\n\u001b[0m\u001b[0;32m    257\u001b[0m     \u001b[1;32mexcept\u001b[0m \u001b[0mImportError\u001b[0m\u001b[1;33m:\u001b[0m\u001b[1;33m\u001b[0m\u001b[0m\n",
      "\u001b[1;31mImportError\u001b[0m: No module named 'pygraphviz'",
      "\nDuring handling of the above exception, another exception occurred:\n",
      "\u001b[1;31mImportError\u001b[0m                               Traceback (most recent call last)",
      "\u001b[1;32m<ipython-input-87-3b686ae7f2f4>\u001b[0m in \u001b[0;36m<module>\u001b[1;34m()\u001b[0m\n\u001b[1;32m----> 1\u001b[1;33m \u001b[0mgraphviz_layout\u001b[0m\u001b[1;33m(\u001b[0m\u001b[0mG\u001b[0m\u001b[1;33m)\u001b[0m\u001b[1;33m\u001b[0m\u001b[0m\n\u001b[0m",
      "\u001b[1;32mC:\\Users\\Wei\\Anaconda3\\lib\\site-packages\\networkx\\drawing\\nx_agraph.py\u001b[0m in \u001b[0;36mgraphviz_layout\u001b[1;34m(G, prog, root, args)\u001b[0m\n\u001b[0;32m    227\u001b[0m \u001b[1;33m\u001b[0m\u001b[0m\n\u001b[0;32m    228\u001b[0m     \"\"\"\n\u001b[1;32m--> 229\u001b[1;33m     \u001b[1;32mreturn\u001b[0m \u001b[0mpygraphviz_layout\u001b[0m\u001b[1;33m(\u001b[0m\u001b[0mG\u001b[0m\u001b[1;33m,\u001b[0m\u001b[0mprog\u001b[0m\u001b[1;33m=\u001b[0m\u001b[0mprog\u001b[0m\u001b[1;33m,\u001b[0m\u001b[0mroot\u001b[0m\u001b[1;33m=\u001b[0m\u001b[0mroot\u001b[0m\u001b[1;33m,\u001b[0m\u001b[0margs\u001b[0m\u001b[1;33m=\u001b[0m\u001b[0margs\u001b[0m\u001b[1;33m)\u001b[0m\u001b[1;33m\u001b[0m\u001b[0m\n\u001b[0m\u001b[0;32m    230\u001b[0m \u001b[1;33m\u001b[0m\u001b[0m\n\u001b[0;32m    231\u001b[0m \u001b[1;32mdef\u001b[0m \u001b[0mpygraphviz_layout\u001b[0m\u001b[1;33m(\u001b[0m\u001b[0mG\u001b[0m\u001b[1;33m,\u001b[0m\u001b[0mprog\u001b[0m\u001b[1;33m=\u001b[0m\u001b[1;34m'neato'\u001b[0m\u001b[1;33m,\u001b[0m\u001b[0mroot\u001b[0m\u001b[1;33m=\u001b[0m\u001b[1;32mNone\u001b[0m\u001b[1;33m,\u001b[0m \u001b[0margs\u001b[0m\u001b[1;33m=\u001b[0m\u001b[1;34m''\u001b[0m\u001b[1;33m)\u001b[0m\u001b[1;33m:\u001b[0m\u001b[1;33m\u001b[0m\u001b[0m\n",
      "\u001b[1;32mC:\\Users\\Wei\\Anaconda3\\lib\\site-packages\\networkx\\drawing\\nx_agraph.py\u001b[0m in \u001b[0;36mpygraphviz_layout\u001b[1;34m(G, prog, root, args)\u001b[0m\n\u001b[0;32m    258\u001b[0m         raise ImportError('requires pygraphviz ',\n\u001b[0;32m    259\u001b[0m                           \u001b[1;34m'http://networkx.lanl.gov/pygraphviz '\u001b[0m\u001b[1;33m,\u001b[0m\u001b[1;33m\u001b[0m\u001b[0m\n\u001b[1;32m--> 260\u001b[1;33m                           '(not available for Python3)')\n\u001b[0m\u001b[0;32m    261\u001b[0m     \u001b[1;32mif\u001b[0m \u001b[0mroot\u001b[0m \u001b[1;32mis\u001b[0m \u001b[1;32mnot\u001b[0m \u001b[1;32mNone\u001b[0m\u001b[1;33m:\u001b[0m\u001b[1;33m\u001b[0m\u001b[0m\n\u001b[0;32m    262\u001b[0m         \u001b[0margs\u001b[0m\u001b[1;33m+=\u001b[0m\u001b[1;34m\"-Groot=%s\"\u001b[0m\u001b[1;33m%\u001b[0m\u001b[0mroot\u001b[0m\u001b[1;33m\u001b[0m\u001b[0m\n",
      "\u001b[1;31mImportError\u001b[0m: ('requires pygraphviz ', 'http://networkx.lanl.gov/pygraphviz ', '(not available for Python3)')"
     ]
    }
   ],
   "source": [
    "graphviz_layout(G)"
   ]
  },
  {
   "cell_type": "code",
   "execution_count": 81,
   "metadata": {
    "collapsed": false
   },
   "outputs": [
    {
     "ename": "ImportError",
     "evalue": "('requires pygraphviz ', 'http://networkx.lanl.gov/pygraphviz ', '(not available for Python3)')",
     "output_type": "error",
     "traceback": [
      "\u001b[1;31m---------------------------------------------------------------------------\u001b[0m",
      "\u001b[1;31mImportError\u001b[0m                               Traceback (most recent call last)",
      "\u001b[1;32mC:\\Users\\Wei\\Anaconda3\\lib\\site-packages\\networkx\\drawing\\nx_agraph.py\u001b[0m in \u001b[0;36mpygraphviz_layout\u001b[1;34m(G, prog, root, args)\u001b[0m\n\u001b[0;32m    255\u001b[0m     \u001b[1;32mtry\u001b[0m\u001b[1;33m:\u001b[0m\u001b[1;33m\u001b[0m\u001b[0m\n\u001b[1;32m--> 256\u001b[1;33m         \u001b[1;32mimport\u001b[0m \u001b[0mpygraphviz\u001b[0m\u001b[1;33m\u001b[0m\u001b[0m\n\u001b[0m\u001b[0;32m    257\u001b[0m     \u001b[1;32mexcept\u001b[0m \u001b[0mImportError\u001b[0m\u001b[1;33m:\u001b[0m\u001b[1;33m\u001b[0m\u001b[0m\n",
      "\u001b[1;31mImportError\u001b[0m: No module named 'pygraphviz'",
      "\nDuring handling of the above exception, another exception occurred:\n",
      "\u001b[1;31mImportError\u001b[0m                               Traceback (most recent call last)",
      "\u001b[1;32m<ipython-input-81-968fa870cf63>\u001b[0m in \u001b[0;36m<module>\u001b[1;34m()\u001b[0m\n\u001b[1;32m----> 1\u001b[1;33m \u001b[0mnx\u001b[0m\u001b[1;33m.\u001b[0m\u001b[0mpygraphviz_layout\u001b[0m\u001b[1;33m(\u001b[0m\u001b[0mG\u001b[0m\u001b[1;33m)\u001b[0m\u001b[1;33m\u001b[0m\u001b[0m\n\u001b[0m",
      "\u001b[1;32mC:\\Users\\Wei\\Anaconda3\\lib\\site-packages\\networkx\\drawing\\nx_agraph.py\u001b[0m in \u001b[0;36mpygraphviz_layout\u001b[1;34m(G, prog, root, args)\u001b[0m\n\u001b[0;32m    258\u001b[0m         raise ImportError('requires pygraphviz ',\n\u001b[0;32m    259\u001b[0m                           \u001b[1;34m'http://networkx.lanl.gov/pygraphviz '\u001b[0m\u001b[1;33m,\u001b[0m\u001b[1;33m\u001b[0m\u001b[0m\n\u001b[1;32m--> 260\u001b[1;33m                           '(not available for Python3)')\n\u001b[0m\u001b[0;32m    261\u001b[0m     \u001b[1;32mif\u001b[0m \u001b[0mroot\u001b[0m \u001b[1;32mis\u001b[0m \u001b[1;32mnot\u001b[0m \u001b[1;32mNone\u001b[0m\u001b[1;33m:\u001b[0m\u001b[1;33m\u001b[0m\u001b[0m\n\u001b[0;32m    262\u001b[0m         \u001b[0margs\u001b[0m\u001b[1;33m+=\u001b[0m\u001b[1;34m\"-Groot=%s\"\u001b[0m\u001b[1;33m%\u001b[0m\u001b[0mroot\u001b[0m\u001b[1;33m\u001b[0m\u001b[0m\n",
      "\u001b[1;31mImportError\u001b[0m: ('requires pygraphviz ', 'http://networkx.lanl.gov/pygraphviz ', '(not available for Python3)')"
     ]
    }
   ],
   "source": [
    "nx.pygraphviz_layout(G)"
   ]
  },
  {
   "cell_type": "code",
   "execution_count": 56,
   "metadata": {
    "collapsed": false
   },
   "outputs": [
    {
     "name": "stdout",
     "output_type": "stream",
     "text": [
      "1-3\n",
      "\n",
      "2-5\n",
      "3-7\n",
      "\n",
      "4-9\n",
      "5-11\n",
      "6-13\n",
      "7-15\n",
      "\n",
      "---------\n"
     ]
    }
   ],
   "source": [
    "import networkx as nx\n",
    "\n",
    "n = 2  # the number of children for each node \n",
    "depth = 3 # number of levels, starting from 0\n",
    "\n",
    "G = nx.Graph()\n",
    "G.add_node(1) # initialize root\n",
    "\n",
    "ulim = 0\n",
    "for level in range(depth): # loop over each level\n",
    "    nl = n**level # number of nodes on a given level\n",
    "    llim = ulim + 1 # index of first node on a given level \n",
    "    ulim = ulim + nl # index of last node on a given level\n",
    "    for i in range(nl): # loop over nodes (parents) on a given level\n",
    "        parent = llim + i\n",
    "        offset = ulim + i * n + 1 # index pointing to node just before first child\n",
    "        for j in range(n): # loop over children for a given node (parent)\n",
    "            child = offset + j\n",
    "            G.add_node(child)\n",
    "            G.add_edge(parent, child)\n",
    "\n",
    "        # show the results\n",
    "        print ('{:d}-{:d}'.format(parent, child))\n",
    "    print ('')\n",
    "print ('---------')"
   ]
  },
  {
   "cell_type": "code",
   "execution_count": 129,
   "metadata": {
    "collapsed": true
   },
   "outputs": [],
   "source": [
    "class node(object):\n",
    "    def __init__(self, value, children = []):\n",
    "        self.value = value\n",
    "        self.children = children\n",
    "\n",
    "    def __str__(self, level=0):\n",
    "        ret = \"\\t\"*level+repr(self.value)+\"\\n\"\n",
    "        for child in self.children:\n",
    "            ret += child.__str__(level+1)\n",
    "        return ret\n",
    "\n",
    "    def __repr__(self):\n",
    "        return '<tree node representation>'\n",
    "\n",
    "root = node('grandmother')\n",
    "root.children = [node('daughter'), node('son')]\n",
    "root.children[0].children = [node('granddaughter'), node('grandson')]\n",
    "root.children[1].children = [node('granddaughter'), node('grandson')]"
   ]
  },
  {
   "cell_type": "code",
   "execution_count": 130,
   "metadata": {
    "collapsed": true
   },
   "outputs": [],
   "source": [
    "\n"
   ]
  },
  {
   "cell_type": "code",
   "execution_count": 114,
   "metadata": {
    "collapsed": false
   },
   "outputs": [
    {
     "name": "stdout",
     "output_type": "stream",
     "text": [
      "'grandmother'\n",
      "\t'daughter'\n",
      "\t\t'granddaughter'\n",
      "\t\t'grandson'\n",
      "\t'son'\n",
      "\t\t'granddaughter'\n",
      "\t\t'grandson'\n",
      "\n"
     ]
    }
   ],
   "source": [
    "print (root)"
   ]
  },
  {
   "cell_type": "code",
   "execution_count": 119,
   "metadata": {
    "collapsed": true
   },
   "outputs": [],
   "source": [
    "# Definition for a binary tree node.\n",
    "class TreeNode(object):\n",
    "    def __init__(self, x):\n",
    "        self.val = x\n",
    "        self.left = None\n",
    "        self.right = None\n",
    "        \n",
    "    def __str__(self, level=0):\n",
    "        ret = \"\\t\"*level+repr(self.val)+\"\\n\"\n",
    "        for left in self.left:\n",
    "            ret += left.__str__(level+1)\n",
    "       \n",
    "        for right in self.right:\n",
    "            ret += right.__str__(level+1)\n",
    "          \n",
    "            \n",
    "        return ret\n",
    "\n",
    "class Solution(object):\n",
    "    def isSameTree(self, p, q):\n",
    "        \"\"\"\n",
    "        :type p: TreeNode\n",
    "        :type q: TreeNode\n",
    "        :rtype: bool\n",
    "        \"\"\""
   ]
  },
  {
   "cell_type": "code",
   "execution_count": 103,
   "metadata": {
    "collapsed": false
   },
   "outputs": [
    {
     "ename": "AttributeError",
     "evalue": "'TreeNode' object has no attribute 'children'",
     "output_type": "error",
     "traceback": [
      "\u001b[1;31m---------------------------------------------------------------------------\u001b[0m",
      "\u001b[1;31mAttributeError\u001b[0m                            Traceback (most recent call last)",
      "\u001b[1;32m<ipython-input-103-0e9897a0d33f>\u001b[0m in \u001b[0;36m<module>\u001b[1;34m()\u001b[0m\n\u001b[0;32m      3\u001b[0m \u001b[1;33m\u001b[0m\u001b[0m\n\u001b[0;32m      4\u001b[0m \u001b[1;33m\u001b[0m\u001b[0m\n\u001b[1;32m----> 5\u001b[1;33m \u001b[0mroot\u001b[0m\u001b[1;33m.\u001b[0m\u001b[0mchildren\u001b[0m\u001b[1;33m[\u001b[0m\u001b[1;36m0\u001b[0m\u001b[1;33m]\u001b[0m\u001b[1;33m.\u001b[0m\u001b[0mchildren\u001b[0m \u001b[1;33m=\u001b[0m \u001b[1;33m[\u001b[0m\u001b[0mnode\u001b[0m\u001b[1;33m(\u001b[0m\u001b[1;34m'granddaughter'\u001b[0m\u001b[1;33m)\u001b[0m\u001b[1;33m,\u001b[0m \u001b[0mnode\u001b[0m\u001b[1;33m(\u001b[0m\u001b[1;34m'grandson'\u001b[0m\u001b[1;33m)\u001b[0m\u001b[1;33m]\u001b[0m\u001b[1;33m\u001b[0m\u001b[0m\n\u001b[0m\u001b[0;32m      6\u001b[0m \u001b[0mroot\u001b[0m\u001b[1;33m.\u001b[0m\u001b[0mchildren\u001b[0m\u001b[1;33m[\u001b[0m\u001b[1;36m1\u001b[0m\u001b[1;33m]\u001b[0m\u001b[1;33m.\u001b[0m\u001b[0mchildren\u001b[0m \u001b[1;33m=\u001b[0m \u001b[1;33m[\u001b[0m\u001b[0mnode\u001b[0m\u001b[1;33m(\u001b[0m\u001b[1;34m'granddaughter'\u001b[0m\u001b[1;33m)\u001b[0m\u001b[1;33m,\u001b[0m \u001b[0mnode\u001b[0m\u001b[1;33m(\u001b[0m\u001b[1;34m'grandson'\u001b[0m\u001b[1;33m)\u001b[0m\u001b[1;33m]\u001b[0m\u001b[1;33m\u001b[0m\u001b[0m\n",
      "\u001b[1;31mAttributeError\u001b[0m: 'TreeNode' object has no attribute 'children'"
     ]
    }
   ],
   "source": [
    "root = TreeNode('grandmother')\n",
    "root.left = TreeNode ('daughter')\n",
    "\n",
    "\n",
    "root.children[0].children = [node('granddaughter'), node('grandson')]\n",
    "root.children[1].children = [node('granddaughter'), node('grandson')]"
   ]
  },
  {
   "cell_type": "code",
   "execution_count": 126,
   "metadata": {
    "collapsed": true
   },
   "outputs": [],
   "source": [
    "root = TreeNode('grandmother')\n",
    "root.left = TreeNode ('daughter')\n",
    "root.right = TreeNode ('son')"
   ]
  },
  {
   "cell_type": "code",
   "execution_count": 127,
   "metadata": {
    "collapsed": false
   },
   "outputs": [
    {
     "data": {
      "text/plain": [
       "'daughter'"
      ]
     },
     "execution_count": 127,
     "metadata": {},
     "output_type": "execute_result"
    }
   ],
   "source": [
    "root.left.val"
   ]
  },
  {
   "cell_type": "code",
   "execution_count": 128,
   "metadata": {
    "collapsed": false
   },
   "outputs": [
    {
     "ename": "TypeError",
     "evalue": "'TreeNode' object is not iterable",
     "output_type": "error",
     "traceback": [
      "\u001b[1;31m---------------------------------------------------------------------------\u001b[0m",
      "\u001b[1;31mTypeError\u001b[0m                                 Traceback (most recent call last)",
      "\u001b[1;32m<ipython-input-128-dfb5c8a6c8d5>\u001b[0m in \u001b[0;36m<module>\u001b[1;34m()\u001b[0m\n\u001b[1;32m----> 1\u001b[1;33m \u001b[0mstr\u001b[0m\u001b[1;33m(\u001b[0m\u001b[0mroot\u001b[0m\u001b[1;33m)\u001b[0m\u001b[1;33m\u001b[0m\u001b[0m\n\u001b[0m",
      "\u001b[1;32m<ipython-input-119-c9c0a25f6463>\u001b[0m in \u001b[0;36m__str__\u001b[1;34m(self, level)\u001b[0m\n\u001b[0;32m      8\u001b[0m     \u001b[1;32mdef\u001b[0m \u001b[0m__str__\u001b[0m\u001b[1;33m(\u001b[0m\u001b[0mself\u001b[0m\u001b[1;33m,\u001b[0m \u001b[0mlevel\u001b[0m\u001b[1;33m=\u001b[0m\u001b[1;36m0\u001b[0m\u001b[1;33m)\u001b[0m\u001b[1;33m:\u001b[0m\u001b[1;33m\u001b[0m\u001b[0m\n\u001b[0;32m      9\u001b[0m         \u001b[0mret\u001b[0m \u001b[1;33m=\u001b[0m \u001b[1;34m\"\\t\"\u001b[0m\u001b[1;33m*\u001b[0m\u001b[0mlevel\u001b[0m\u001b[1;33m+\u001b[0m\u001b[0mrepr\u001b[0m\u001b[1;33m(\u001b[0m\u001b[0mself\u001b[0m\u001b[1;33m.\u001b[0m\u001b[0mval\u001b[0m\u001b[1;33m)\u001b[0m\u001b[1;33m+\u001b[0m\u001b[1;34m\"\\n\"\u001b[0m\u001b[1;33m\u001b[0m\u001b[0m\n\u001b[1;32m---> 10\u001b[1;33m         \u001b[1;32mfor\u001b[0m \u001b[0mleft\u001b[0m \u001b[1;32min\u001b[0m \u001b[0mself\u001b[0m\u001b[1;33m.\u001b[0m\u001b[0mleft\u001b[0m\u001b[1;33m:\u001b[0m\u001b[1;33m\u001b[0m\u001b[0m\n\u001b[0m\u001b[0;32m     11\u001b[0m             \u001b[0mret\u001b[0m \u001b[1;33m+=\u001b[0m \u001b[0mleft\u001b[0m\u001b[1;33m.\u001b[0m\u001b[0m__str__\u001b[0m\u001b[1;33m(\u001b[0m\u001b[0mlevel\u001b[0m\u001b[1;33m+\u001b[0m\u001b[1;36m1\u001b[0m\u001b[1;33m)\u001b[0m\u001b[1;33m\u001b[0m\u001b[0m\n\u001b[0;32m     12\u001b[0m \u001b[1;33m\u001b[0m\u001b[0m\n",
      "\u001b[1;31mTypeError\u001b[0m: 'TreeNode' object is not iterable"
     ]
    }
   ],
   "source": [
    "str(root)"
   ]
  },
  {
   "cell_type": "code",
   "execution_count": null,
   "metadata": {
    "collapsed": true
   },
   "outputs": [],
   "source": []
  }
 ],
 "metadata": {
  "kernelspec": {
   "display_name": "Python 3",
   "language": "python",
   "name": "python3"
  },
  "language_info": {
   "codemirror_mode": {
    "name": "ipython",
    "version": 3
   },
   "file_extension": ".py",
   "mimetype": "text/x-python",
   "name": "python",
   "nbconvert_exporter": "python",
   "pygments_lexer": "ipython3",
   "version": "3.4.3"
  }
 },
 "nbformat": 4,
 "nbformat_minor": 0
}
